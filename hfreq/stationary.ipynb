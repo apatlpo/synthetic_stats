{
 "cells": [
  {
   "cell_type": "markdown",
   "metadata": {},
   "source": [
    "# stationary, non-stationary, autocovariance & spectra"
   ]
  },
  {
   "cell_type": "code",
   "execution_count": 9,
   "metadata": {},
   "outputs": [],
   "source": [
    "import xarray as xr\n",
    "import numpy as np\n",
    "import matplotlib.pyplot as plt\n",
    "\n",
    "import sstats.hfreq as hf\n",
    "import sstats.tseries as ts\n",
    "\n",
    "#print_figs = False"
   ]
  },
  {
   "cell_type": "markdown",
   "metadata": {},
   "source": [
    "---\n",
    "\n",
    "## low + 2 x high"
   ]
  },
  {
   "cell_type": "code",
   "execution_count": 1,
   "metadata": {},
   "outputs": [],
   "source": []
  },
  {
   "cell_type": "code",
   "execution_count": 2,
   "metadata": {},
   "outputs": [
    {
     "data": {
      "text/latex": [
       "$\\displaystyle U^{2} e^{- \\frac{\\tau}{T}} \\cos{\\left(\\sigma \\tau \\right)}$"
      ],
      "text/plain": [
       "U**2*exp(-tau/T)*cos(sigma*tau)"
      ]
     },
     "execution_count": 2,
     "metadata": {},
     "output_type": "execute_result"
    }
   ],
   "source": [
    "u_high = hf.high_frequency_signal()\n",
    "u_high.autocorrelation"
   ]
  },
  {
   "cell_type": "code",
   "execution_count": 3,
   "metadata": {},
   "outputs": [
    {
     "data": {
      "text/latex": [
       "$\\displaystyle \\frac{2 T U^{2} \\left(T^{2} \\omega^{2} + T^{2} \\sigma^{2} + 1\\right)}{T^{4} \\omega^{4} - 2 T^{4} \\omega^{2} \\sigma^{2} + T^{4} \\sigma^{4} + 2 T^{2} \\omega^{2} + 2 T^{2} \\sigma^{2} + 1}$"
      ],
      "text/plain": [
       "2*T*U**2*(T**2*omega**2 + T**2*sigma**2 + 1)/(T**4*omega**4 - 2*T**4*omega**2*sigma**2 + T**4*sigma**4 + 2*T**2*omega**2 + 2*T**2*sigma**2 + 1)"
      ]
     },
     "execution_count": 3,
     "metadata": {},
     "output_type": "execute_result"
    }
   ],
   "source": [
    "u_high.spectrum"
   ]
  },
  {
   "cell_type": "code",
   "execution_count": 2,
   "metadata": {},
   "outputs": [
    {
     "data": {
      "text/latex": [
       "$\\displaystyle U^{2} e^{- \\frac{\\tau}{T}} \\cos{\\left(\\sigma \\tau \\right)} + U_{s}^{2} \\cos{\\left(\\sigma \\tau \\right)}$"
      ],
      "text/plain": [
       "U**2*exp(-tau/T)*cos(sigma*tau) + U_s**2*cos(sigma*tau)"
      ]
     },
     "execution_count": 2,
     "metadata": {},
     "output_type": "execute_result"
    }
   ],
   "source": [
    "u_high = hf.high_frequency_signal(stationary=True)\n",
    "u_high.autocorrelation"
   ]
  },
  {
   "cell_type": "code",
   "execution_count": 3,
   "metadata": {},
   "outputs": [
    {
     "data": {
      "text/latex": [
       "$\\displaystyle \\frac{2 T U^{2} \\left(T^{2} \\left(\\omega^{2} + \\sigma^{2}\\right) + 1\\right)}{T^{4} \\left(- \\omega^{2} + \\sigma^{2}\\right)^{2} + 2 T^{2} \\left(\\omega^{2} + \\sigma^{2}\\right) + 1} + \\pi U_{s}^{2} \\left(\\delta\\left(- \\omega + \\sigma\\right) + \\delta\\left(\\omega + \\sigma\\right)\\right)$"
      ],
      "text/plain": [
       "2*T*U**2*(T**2*(omega**2 + sigma**2) + 1)/(T**4*(-omega**2 + sigma**2)**2 + 2*T**2*(omega**2 + sigma**2) + 1) + pi*U_s**2*(DiracDelta(-omega + sigma) + DiracDelta(omega + sigma))"
      ]
     },
     "execution_count": 3,
     "metadata": {},
     "output_type": "execute_result"
    }
   ],
   "source": [
    "u_high.spectrum"
   ]
  },
  {
   "cell_type": "code",
   "execution_count": 4,
   "metadata": {},
   "outputs": [
    {
     "data": {
      "text/latex": [
       "$\\displaystyle U^{2} + U_{s}^{2}$"
      ],
      "text/plain": [
       "U**2 + U_s**2"
      ]
     },
     "execution_count": 4,
     "metadata": {},
     "output_type": "execute_result"
    }
   ],
   "source": [
    "u_high.variance"
   ]
  },
  {
   "cell_type": "code",
   "execution_count": 5,
   "metadata": {},
   "outputs": [
    {
     "data": {
      "text/plain": [
       "{'T': T, 'U': U, 'Us': U_s, 'sigma': sigma}"
      ]
     },
     "execution_count": 5,
     "metadata": {},
     "output_type": "execute_result"
    }
   ],
   "source": [
    "u_high.p"
   ]
  },
  {
   "cell_type": "code",
   "execution_count": 6,
   "metadata": {},
   "outputs": [
    {
     "data": {
      "text/plain": [
       "{'T': 10, 'U': 1.0, 'Us': 1.0, 'sigma': 12.566370614359172}"
      ]
     },
     "execution_count": 6,
     "metadata": {},
     "output_type": "execute_result"
    }
   ],
   "source": [
    "u_high.p_values"
   ]
  },
  {
   "cell_type": "code",
   "execution_count": 7,
   "metadata": {},
   "outputs": [
    {
     "data": {
      "text/plain": [
       "<function _lambdifygenerated(omega, T, U, U_s, sigma)>"
      ]
     },
     "execution_count": 7,
     "metadata": {},
     "output_type": "execute_result"
    }
   ],
   "source": [
    "u_high.spectrum_lbd"
   ]
  },
  {
   "cell_type": "code",
   "execution_count": 19,
   "metadata": {},
   "outputs": [
    {
     "data": {
      "text/plain": [
       "[<matplotlib.lines.Line2D at 0x7fa52970c750>]"
      ]
     },
     "execution_count": 19,
     "metadata": {},
     "output_type": "execute_result"
    },
    {
     "data": {
      "image/png": "[encoded data removed]",
      "text/plain": [
       "<Figure size 432x288 with 1 Axes>"
      ]
     },
     "metadata": {
      "needs_background": "light"
     },
     "output_type": "display_data"
    }
   ],
   "source": [
    "u_high.plot_spectrum(eval_kwargs={\"Us\": 1, \"omega\": dict(N=1000)},  xlim=(1, 3))"
   ]
  },
  {
   "cell_type": "code",
   "execution_count": 20,
   "metadata": {},
   "outputs": [
    {
     "data": {
      "text/plain": [
       "[<matplotlib.lines.Line2D at 0x7fa50b0011d0>]"
      ]
     },
     "execution_count": 20,
     "metadata": {},
     "output_type": "execute_result"
    },
    {
     "data": {
      "image/png": "[encoded data removed]",
      "text/plain": [
       "<Figure size 432x288 with 1 Axes>"
      ]
     },
     "metadata": {
      "needs_background": "light"
     },
     "output_type": "display_data"
    }
   ],
   "source": [
    "u_high.plot_spectrum(eval_kwargs={\"Us\": 0, \"omega\": dict(N=1000)},  xlim=(1, 3))"
   ]
  },
  {
   "cell_type": "code",
   "execution_count": null,
   "metadata": {},
   "outputs": [],
   "source": []
  }
 ],
 "metadata": {
  "kernelspec": {
   "display_name": "Python 3",
   "language": "python",
   "name": "python3"
  },
  "language_info": {
   "codemirror_mode": {
    "name": "ipython",
    "version": 3
   },
   "file_extension": ".py",
   "mimetype": "text/x-python",
   "name": "python",
   "nbconvert_exporter": "python",
   "pygments_lexer": "ipython3",
   "version": "3.7.10"
  }
 },
 "nbformat": 4,
 "nbformat_minor": 4
}
