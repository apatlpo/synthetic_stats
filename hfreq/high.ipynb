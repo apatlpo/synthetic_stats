{
 "cells": [
  {
   "cell_type": "markdown",
   "metadata": {},
   "source": [
    "# Narrow-band high frequency signals\n",
    "\n",
    "Ignores any stationary contribution\n"
   ]
  },
  {
   "cell_type": "code",
   "execution_count": 1,
   "metadata": {},
   "outputs": [],
   "source": [
    "import xarray as xr\n",
    "import numpy as np\n",
    "import matplotlib.pyplot as plt\n",
    "\n",
    "import scipy.integrate as integrate\n",
    "from sympy import Symbol, pi, atan, factor, lambdify\n",
    "\n",
    "import sstats.hfreq as hf\n",
    "import sstats.tseries as ts\n",
    "\n",
    "print_figs = True"
   ]
  },
  {
   "cell_type": "markdown",
   "metadata": {},
   "source": [
    "---\n",
    "\n",
    "## High frequency signal"
   ]
  },
  {
   "cell_type": "code",
   "execution_count": 2,
   "metadata": {},
   "outputs": [],
   "source": [
    "models = ['exponential', 'gaussian']\n",
    "U = {m: hf.high_frequency_signal(model=m) for m in models}"
   ]
  },
  {
   "cell_type": "code",
   "execution_count": 3,
   "metadata": {},
   "outputs": [
    {
     "name": "stdout",
     "output_type": "stream",
     "text": [
      "exponential:\n"
     ]
    },
    {
     "data": {
      "text/latex": [
       "$\\displaystyle \\frac{U^{2} e^{- \\frac{\\tau}{T}} \\cos{\\left(\\sigma \\tau \\right)}}{2}$"
      ],
      "text/plain": [
       "U**2*exp(-tau/T)*cos(sigma*tau)/2"
      ]
     },
     "metadata": {},
     "output_type": "display_data"
    },
    {
     "name": "stdout",
     "output_type": "stream",
     "text": [
      "gaussian:\n"
     ]
    },
    {
     "data": {
      "text/latex": [
       "$\\displaystyle \\frac{U^{2} e^{- \\frac{\\tau^{2}}{T^{2}}} \\cos{\\left(\\sigma \\tau \\right)}}{2}$"
      ],
      "text/plain": [
       "U**2*exp(-tau**2/T**2)*cos(sigma*tau)/2"
      ]
     },
     "metadata": {},
     "output_type": "display_data"
    }
   ],
   "source": [
    "for m, u in U.items():\n",
    "    print(m+\":\")\n",
    "    display(u.autocorrelation)"
   ]
  },
  {
   "cell_type": "code",
   "execution_count": 4,
   "metadata": {},
   "outputs": [
    {
     "name": "stdout",
     "output_type": "stream",
     "text": [
      "exponential:\n"
     ]
    },
    {
     "data": {
      "text/latex": [
       "$\\displaystyle \\frac{T U^{2} \\left(T^{2} \\left(\\omega^{2} + \\sigma^{2}\\right) + 1\\right)}{T^{4} \\left(- \\omega^{2} + \\sigma^{2}\\right)^{2} + 2 T^{2} \\left(\\omega^{2} + \\sigma^{2}\\right) + 1}$"
      ],
      "text/plain": [
       "T*U**2*(T**2*(omega**2 + sigma**2) + 1)/(T**4*(-omega**2 + sigma**2)**2 + 2*T**2*(omega**2 + sigma**2) + 1)"
      ]
     },
     "metadata": {},
     "output_type": "display_data"
    },
    {
     "name": "stdout",
     "output_type": "stream",
     "text": [
      "gaussian:\n"
     ]
    },
    {
     "data": {
      "text/latex": [
       "$\\displaystyle \\frac{\\sqrt{\\pi} T U^{2} \\left(e^{- \\frac{T^{2} \\left(\\omega + \\sigma\\right)^{2}}{4}} + e^{- \\frac{T^{2} \\left(- \\omega + \\sigma\\right)^{2}}{4}}\\right)}{4}$"
      ],
      "text/plain": [
       "sqrt(pi)*T*U**2*(exp(-T**2*(omega + sigma)**2/4) + exp(-T**2*(-omega + sigma)**2/4))/4"
      ]
     },
     "metadata": {},
     "output_type": "display_data"
    }
   ],
   "source": [
    "for m, u in U.items():\n",
    "    print(m+\":\")\n",
    "    display(u.spectrum)"
   ]
  },
  {
   "cell_type": "markdown",
   "metadata": {},
   "source": [
    "### check Parseval"
   ]
  },
  {
   "cell_type": "code",
   "execution_count": 5,
   "metadata": {},
   "outputs": [
    {
     "name": "stdout",
     "output_type": "stream",
     "text": [
      "exponential:\n"
     ]
    },
    {
     "data": {
      "text/latex": [
       "$\\displaystyle \\frac{U^{2}}{2}$"
      ],
      "text/plain": [
       "U**2/2"
      ]
     },
     "metadata": {},
     "output_type": "display_data"
    },
    {
     "name": "stdout",
     "output_type": "stream",
     "text": [
      "gaussian:\n"
     ]
    },
    {
     "data": {
      "text/latex": [
       "$\\displaystyle \\frac{U^{2}}{2}$"
      ],
      "text/plain": [
       "U**2/2"
      ]
     },
     "metadata": {},
     "output_type": "display_data"
    }
   ],
   "source": [
    "# check Parseval: !!! 2 pi factor required\n",
    "from sympy import oo, pi\n",
    "\n",
    "for m, u in U.items():\n",
    "    _E = u.spectrum.subs({u.p[\"sigma\"]: 2/u.p[\"T\"]}) # hack, required (atan issues with sympy)\n",
    "    _I = _E.integrate((u.omega, 0, oo)) *2 /2/pi\n",
    "    #_I = _E.integrate((u.omega, -oo, oo)) /2/pi # not working for exp\n",
    "    print(m+\":\")\n",
    "    display(_I.simplify())"
   ]
  },
  {
   "cell_type": "markdown",
   "metadata": {},
   "source": [
    "### value at frequency 0"
   ]
  },
  {
   "cell_type": "code",
   "execution_count": 6,
   "metadata": {},
   "outputs": [
    {
     "name": "stdout",
     "output_type": "stream",
     "text": [
      "exponential:\n"
     ]
    },
    {
     "data": {
      "text/latex": [
       "$\\displaystyle \\frac{T U^{2}}{T^{2} \\sigma^{2} + 1}$"
      ],
      "text/plain": [
       "T*U**2/(T**2*sigma**2 + 1)"
      ]
     },
     "metadata": {},
     "output_type": "display_data"
    },
    {
     "name": "stdout",
     "output_type": "stream",
     "text": [
      "gaussian:\n"
     ]
    },
    {
     "data": {
      "text/latex": [
       "$\\displaystyle \\frac{\\sqrt{\\pi} T U^{2} e^{- \\frac{T^{2} \\sigma^{2}}{4}}}{2}$"
      ],
      "text/plain": [
       "sqrt(pi)*T*U**2*exp(-T**2*sigma**2/4)/2"
      ]
     },
     "metadata": {},
     "output_type": "display_data"
    }
   ],
   "source": [
    "# value at 0 frequency\n",
    "for m, u in U.items():\n",
    "    _E0 = u.spectrum.subs({u.omega:0})\n",
    "    print(m+\":\")\n",
    "    display(_E0.simplify())"
   ]
  },
  {
   "cell_type": "markdown",
   "metadata": {},
   "source": [
    "### plots"
   ]
  },
  {
   "cell_type": "code",
   "execution_count": 7,
   "metadata": {},
   "outputs": [
    {
     "data": {
      "text/plain": [
       "Text(0.5, 1.0, 'non-stationary time scale T= 10.0d')"
      ]
     },
     "execution_count": 7,
     "metadata": {},
     "output_type": "execute_result"
    },
    {
     "data": {
      "image/png": "[encoded data removed]",
      "text/plain": [
       "<Figure size 720x288 with 2 Axes>"
      ]
     },
     "metadata": {
      "needs_background": "light"
     },
     "output_type": "display_data"
    }
   ],
   "source": [
    "# for multiple parameter values:\n",
    "T = 10.\n",
    "\n",
    "fig, axes = plt.subplots(1,2,figsize=(10,4))\n",
    "\n",
    "ax = axes[0]\n",
    "for m, u in U.items():\n",
    "    E = u.evaluate_spectrum(T=T, omega=dict(N=1000))\n",
    "    E.plot(ax=ax, label=m)\n",
    "    \n",
    "ax.set_xscale('log')\n",
    "ax.set_yscale('log')\n",
    "ax.set_ylim(1e-3, 1e1)\n",
    "ax.legend()\n",
    "ax.grid()\n",
    "ax.set_title('non-stationary time scale T= {}d'.format(T))\n",
    "\n",
    "ax = axes[1]\n",
    "for m, u in U.items():\n",
    "    E = u.evaluate_spectrum(T=T, omega=dict(N=1000))\n",
    "    E.plot(ax=ax, label=m)\n",
    "    \n",
    "#ax.set_xscale('log')\n",
    "ax.set_yscale('log')\n",
    "ax.set_xlim(1.5, 2.5)\n",
    "ax.set_ylim(1e-3, 1e1)\n",
    "ax.legend()\n",
    "ax.grid()\n",
    "ax.set_title('non-stationary time scale T= {}d'.format(T))\n"
   ]
  },
  {
   "cell_type": "markdown",
   "metadata": {},
   "source": [
    "### nondimensional expression"
   ]
  },
  {
   "cell_type": "code",
   "execution_count": 8,
   "metadata": {},
   "outputs": [
    {
     "data": {
      "text/latex": [
       "$\\displaystyle \\frac{T U^{2} \\left(o^{2} + s^{2} + 1\\right)}{2 o^{2} + 2 s^{2} + \\left(o^{2} - s^{2}\\right)^{2} + 1}$"
      ],
      "text/plain": [
       "T*U**2*(o**2 + s**2 + 1)/(2*o**2 + 2*s**2 + (o**2 - s**2)**2 + 1)"
      ]
     },
     "metadata": {},
     "output_type": "display_data"
    },
    {
     "data": {
      "text/latex": [
       "$\\displaystyle \\frac{\\sqrt{\\pi} T U^{2} \\left(e^{o s} + 1\\right) e^{- \\frac{o^{2}}{4} - \\frac{o s}{2} - \\frac{s^{2}}{4}}}{4}$"
      ],
      "text/plain": [
       "sqrt(pi)*T*U**2*(exp(o*s) + 1)*exp(-o**2/4 - o*s/2 - s**2/4)/4"
      ]
     },
     "metadata": {},
     "output_type": "display_data"
    }
   ],
   "source": [
    "for m, u in U.items():\n",
    "    omega, T, sigma = u.omega, u.p['T'], u.p['sigma']\n",
    "    s = Symbol('s', positive=True)\n",
    "    o = Symbol('o', positive=True)\n",
    "    u_norm = u.spectrum.subs({sigma:s/T, omega:o/T}) #.subs({sigma: 1})\n",
    "    #u_lbd = lambdify([o, Us, t, sigma], u)\n",
    "    display(u_norm.simplify())"
   ]
  },
  {
   "cell_type": "markdown",
   "metadata": {},
   "source": [
    "## integrate spectrum around central frequency"
   ]
  },
  {
   "cell_type": "code",
   "execution_count": 9,
   "metadata": {},
   "outputs": [],
   "source": [
    "delta = np.linspace(0, 2., 30)[1:] # nondim by 1/T\n",
    "sigma = np.linspace(0., 2., 30)[1:] # nondim by 1/T\n",
    "ds = xr.Dataset(None, coords={'delta': (['delta'], delta),\n",
    "                              'sigma': (['sigma'], sigma)},)"
   ]
  },
  {
   "cell_type": "code",
   "execution_count": 10,
   "metadata": {},
   "outputs": [],
   "source": [
    "delta, sigma = xr.broadcast(ds.delta, ds.sigma)\n",
    "T = u.p_values['T']\n",
    "\n",
    "I = {}\n",
    "for m, u in U.items():\n",
    "    u_lbd = lambdify([u.omega, u.p['U'], u.p['T'], u.p['sigma']], u.spectrum)\n",
    "    #fun = lambda omega, sigma: max(1e-5, u_lbd(omega, u.p_values['U'], u.p_values['T'], sigma))\n",
    "    fun = lambda omega, sigma: u_lbd(omega, u.p_values['U'], T, sigma)\n",
    "    Ifun = lambda d, s: integrate.quad(fun, max(0.,s-d), s+d, args=(s,), points=(s,))[0] *2 /2/np.pi\n",
    "    #\n",
    "    ufunc = np.vectorize(Ifun)\n",
    "    da = xr.DataArray(ufunc(2*np.pi*delta/T, 2*np.pi*sigma/T), dims=(\"delta\", \"sigma\")).assign_coords(**ds.coords)\n",
    "    #da = da.where(da.delta<da.sigma)\n",
    "    I[m] = da"
   ]
  },
  {
   "cell_type": "code",
   "execution_count": 11,
   "metadata": {},
   "outputs": [
    {
     "data": {
      "text/plain": [
       "<matplotlib.collections.QuadMesh at 0x7fad2ad1ee10>"
      ]
     },
     "execution_count": 11,
     "metadata": {},
     "output_type": "execute_result"
    },
    {
     "data": {
      "image/png": "[encoded data removed]",
      "text/plain": [
       "<Figure size 432x288 with 2 Axes>"
      ]
     },
     "metadata": {
      "needs_background": "light"
     },
     "output_type": "display_data"
    }
   ],
   "source": [
    "I[\"gaussian\"].plot()"
   ]
  },
  {
   "cell_type": "code",
   "execution_count": 12,
   "metadata": {},
   "outputs": [
    {
     "data": {
      "image/png": "[encoded data removed]",
      "text/plain": [
       "<Figure size 432x288 with 1 Axes>"
      ]
     },
     "metadata": {
      "needs_background": "light"
     },
     "output_type": "display_data"
    }
   ],
   "source": [
    "colors = {m: c for m, c in zip(models, ['tab:blue','tab:orange'])}\n",
    "\n",
    "ax = plt.subplot(111)\n",
    "\n",
    "variance = 0.5*u.p_values['U']\n",
    "\n",
    "for m, da in I.items():\n",
    "    toplt = da.sel(sigma=2., method='nearest')/variance\n",
    "    toplt.plot(color=colors[m], lw=3, ls='--',\n",
    "               ax=ax, label=m+' sigma T=2')\n",
    "    #\n",
    "    da = da.assign_coords(delta_over_sigma=da.delta/10.)\n",
    "    toplt = da.sel(sigma=10., method='nearest')/variance\n",
    "    toplt.plot(color=colors[m], lw=3, ax=ax, label=m+' sigma T=10')\n",
    "\n",
    "ax.legend()\n",
    "ax.set_title(\"fraction of energy recovered\")\n",
    "ax.set_xlabel(r\"$\\delta \\times T$\")\n",
    "\n",
    "ax.grid()\n"
   ]
  },
  {
   "cell_type": "markdown",
   "metadata": {},
   "source": [
    "**Conclusion:** \n",
    "\n",
    "90% of the total variance is recovered if the filter bandwidth is (approximately):\n",
    "\n",
    "- $1/T$ for exponential autocorrelations\n",
    "- $1/3T$ for gaussian shapes\n"
   ]
  },
  {
   "cell_type": "code",
   "execution_count": null,
   "metadata": {},
   "outputs": [],
   "source": []
  }
 ],
 "metadata": {
  "kernelspec": {
   "display_name": "Python 3",
   "language": "python",
   "name": "python3"
  },
  "language_info": {
   "codemirror_mode": {
    "name": "ipython",
    "version": 3
   },
   "file_extension": ".py",
   "mimetype": "text/x-python",
   "name": "python",
   "nbconvert_exporter": "python",
   "pygments_lexer": "ipython3",
   "version": "3.7.10"
  }
 },
 "nbformat": 4,
 "nbformat_minor": 4
}
