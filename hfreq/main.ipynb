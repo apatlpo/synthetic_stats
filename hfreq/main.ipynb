{
 "cells": [
  {
   "cell_type": "markdown",
   "metadata": {},
   "source": [
    "# actions\n",
    "\n",
    "- [X] AP: clean up document and push to all\n",
    "- [ ] AP: get a clearer list of actions\n",
    "- [ ] all: think about priority items/tasks\n",
    "- [ ] all: identify assumptions worth testing.\n",
    "- [X] AP: add illustrations from litterature and idealized theoretical plots\n",
    "- [ ] AP: notebook with sympy verification of equations\n",
    "- [ ] AP+XY: revisit llc4320 spectral diagnotics and use this as illustrations\n",
    "- [ ] AP+NL+ZN: think about where idealized numerical simulations may be useful ...\n"
   ]
  },
  {
   "cell_type": "markdown",
   "metadata": {},
   "source": [
    "# High fequency motions analysis\n",
    "\n",
    "\n",
    "Our goal is to summarize differents statistical diagnostics/descriptors/estimators available in order to describe band-limited high frequency motions and describe how the performance of these diagnostics may be affected by the presence of other signals (low-frequency turbulence, other high-frequency signals).\n",
    "We'll rely on synthetic statistical experiments as well as idealized and realistic numerical simulations.\n",
    "\n",
    "We'll distinguish between two broad families of diagnostics/objectives:\n",
    "\n",
    "- temporally *localized* diagnostics: instantaneous amplitude, phase typically.\n",
    "- temporally *averaged* diagnostics: variance, bandwidth.\n",
    "\n",
    "\n",
    "\n",
    "\n",
    "We'll postulate a signal of the following form: \n",
    "\n",
    "\\begin{align}\n",
    "u(t) = u_l(t) + \\sum_{k\\;\\in\\;[f, M_2, S_2, \\cdots]} u_k(t),\n",
    "\\end{align}\n",
    "\n",
    "where $u_l$ is a broadband low frequency signal and $u_k$ are band-limited high frequency signals centered around a frequency $\\omega_k$. \n",
    "We'll assume high frequency signals may be expressed as:\n",
    "\n",
    "\\begin{align}\n",
    "u_k(t) = \\Re \\Big [ a_k(t) e^{i\\omega_k t} \\Big ],\n",
    "\\end{align}\n",
    "\n",
    "where $a_k$ is a time-varying amplitude.\n",
    "\n",
    "We ignore spatial variability here, even though it may be used to improve the performance of the analysis we may perform."
   ]
  },
  {
   "cell_type": "markdown",
   "metadata": {},
   "source": [
    "---\n",
    "## General statistical diagnostics\n",
    "\n",
    "\n",
    "**Autocorrelations and spectra**\n",
    "\n",
    "All signals are assumed stationary (invariance of statistical estimates as a function of time) which allows to compute the autocorrelation:\n",
    "\\begin{align}\n",
    "R(\\tau) &= \\mathbb{E}[ u(t+\\tau) u(t) ],  \\\\\n",
    "\\end{align}\n",
    "where the operator $\\mathbb{E}$ is given by:\n",
    "\\begin{align}\n",
    "\\mathbb{E} (\\cdot) &= \\lim_{T\\rightarrow+\\infty}\\frac{1}{T} \\int_{-T}^T \\cdot \\; dt, \\\\\n",
    "\\end{align}\n",
    "\n",
    "The frequency spectrum of the signal is given by:\n",
    "\\begin{align}\n",
    "E(\\omega) = \\int_{-\\infty}^{+\\infty} R(\\tau) e^{-i\\omega \\tau} \\; d\\tau, \\\\\n",
    "\\end{align}\n",
    "\n",
    "For a single high frequency component:\n",
    "\\begin{align}\n",
    "R_k(\\tau) \n",
    "&= \\mathbb{E} [ u_k(t+\\tau) u_k(t) ], \\\\\n",
    "&= \n",
    "\\frac{1}{2}\n",
    "\\mathbb{E} \\Big \\{\n",
    "\\Re \\big [ a_k(t+\\tau) a^\\ast_k(t)  e^{i\\omega \\tau} \\big ]\n",
    "+\\Re \\big [ a_k(t+\\tau) a_k(t)  e^{i\\omega (2t+\\tau)} \\big ]\n",
    "\\Big \\}, \\\\\n",
    "&= \n",
    "\\frac{1}{2} \\Re \\Big \\{ \\mathbb{E} [ a_k(t+\\tau) a^\\ast_k(t) ]  e^{i\\omega \\tau} \\big \\}\n",
    "+\n",
    "\\frac{1}{2} \\Re \\Big \\{ \\mathbb{E} [ a_k(t+\\tau) a_k(t) e^{2i\\omega t}]  e^{i\\omega \\tau} \\big \\},\n",
    "\\end{align}\n",
    "where first and second terms on the right-handside may be refered to as the phase-insenstive and phase-sensitive autocorrelations respectively [Erkmen and Shapiro 2006].\n",
    "An assumption of wide-sense stationarity (time-invariant mean and variance) on the real signal $u_k$ requires that its \"complex baseband representation\" $a_k$ is circular/proper that would allow to drop the phase-sensitive term [Shreier and Scharf 2010, section 1.9/2.6.1/8.2.1]:\n",
    "\\begin{align}\n",
    "R_k(\\tau) \n",
    "&= \n",
    "\\frac{1}{2}  \\Re \\Big \\{ R_a(\\tau)  e^{i\\omega \\tau} \\big \\}, \\\\\n",
    "&= \n",
    "\\frac{1}{2} \\Re [ R_a(\\tau) ] \\cos(\\omega \\tau)\n",
    "+\n",
    "\\frac{1}{2} \\Im [ R_a(\\tau) ] \\sin(\\omega \\tau)\n",
    ", \\\\\n",
    "\\end{align}\n",
    "\n",
    "where:\n",
    "\n",
    "\\begin{align}\n",
    "R_a(\\tau) &= \\mathbb{E} [ a_k(t+\\tau) a_k^\\ast(t) ].\n",
    "\\end{align}"
   ]
  },
  {
   "cell_type": "markdown",
   "metadata": {},
   "source": [
    "----\n",
    "## Statistical models\n",
    "\n",
    "**Low-frequency signal**\n",
    "\n",
    "We'll assume the low frequency signal follows an exponentially decorrelated autocorrelation function [Arbic et al. ??]:\n",
    "\n",
    "\\begin{align}\n",
    "R_l(\\tau) &= \\mathbb{E} [ u_l(t+\\tau) u_l(t) ], \\\\\n",
    "&= U_l^2 e^{-|\\tau|/T_l},\n",
    "\\end{align}\n",
    "\n",
    "where $T_l$ is the low-frequency signal timescale.\n",
    "The spectrum of the low-frequency signal is then given by:\n",
    "\n",
    "\\begin{align}\n",
    "E_l(\\omega) &= \\frac{2T_l}{1+(\\omega T_l)^2} \\times U_l^2,\n",
    "\\end{align}\n",
    "\n",
    "Note that more general models for the low-frequency component may be provided by Matérn processes [Sykulski et al. 2019].\n",
    "\n",
    "Here is an illustration of the spectrum and synthetic time series for a 10 day decorrelation time scale and unit amplitude (see [code](plots.ipynb)):\n",
    "\n",
    "<img src=\"figs/overview_low_tseries.png\" align=\"left\" width=\"300\"/>\n",
    "\n",
    "<img src=\"figs/overview_low_spectrum.png\" align=\"left\" width=\"300\"/>\n",
    "\n",
    "<img src=\"figs/overview_low_autocorrelation.png\" align=\"left\" width=\"300\"/>\n"
   ]
  },
  {
   "cell_type": "markdown",
   "metadata": {},
   "source": [
    "**High frequency signal**\n",
    "\n",
    "*Stationary vs nonstationary contributions*\n",
    "\n",
    "High frequency signals may have a stationary contribution which will given by:\n",
    "\n",
    "\\begin{align}\n",
    "u_{k,s}(t) &= \\Re \\Big [ \\langle a_k(t) \\rangle e^{i\\omega_k t} \\Big ], \\\\\n",
    "&= U_{k,s} \\cos [ \\omega_k t + \\phi_{k,s} ],\n",
    "\\end{align}\n",
    "\n",
    "where $\\langle \\rangle$ represents a temporal average, and, $U_{k,s}$ and $\\phi_{k,s}$ represent stationary amplitudes and phases respectively.\n",
    "You may also express the coherent part as:\n",
    "\n",
    "\\begin{align}\n",
    "u_{k,s}(t) = \\langle u_k \\rangle_c,\n",
    "\\end{align}\n",
    "\n",
    "where $\\langle \\rangle_c$ is a coherent temporal averaging, i.e. an average that is carried at with a fix phase.\n",
    "\n",
    "Nonstationary contribution is then given by:\n",
    "\n",
    "\\begin{align}\n",
    "u_{k,ns}(t) &= u_{k}(t) - u_{k,s}(t), \\\\\n",
    "&= \\Re \\Big [ a_{k,ns}(t)  e^{i\\omega_k t} \\Big ],\n",
    "\\end{align}\n",
    "\n",
    "where $a_{k,ns} = a_k - \\langle a_k \\rangle$."
   ]
  },
  {
   "cell_type": "markdown",
   "metadata": {},
   "source": [
    "*Autocorrelations*\n",
    "\n",
    "We consider a single contribution $k$ whose label is ommitted in notations below.\n",
    "The autocorrelation of the full $k$ contribution is related to stationary and nonstationary autocorrelation via:\n",
    "\n",
    "\\begin{align}\n",
    "R_k(\\tau) &= R_s(\\tau) + R_{ns}(\\tau) + \\mathbb{E} [ u_s(t) u_{ns}(t+\\tau) + u_s(t+\\tau) u_{ns}(t) ] ,\n",
    "\\end{align}\n",
    "\n",
    "where $R_s$ and $R_{ns}$ are the stationary and nonstationary autocorrelations and where the third time drops out upon the (reasonable) assumption of no correlation between the stationary and nonstationary contributions.\n",
    "The stationary autocorrelation is given by:\n",
    "\n",
    "\\begin{align}\n",
    "R_s(\\tau) &= U_s^2/2 \\times \\cos (\\omega_k \\tau).\n",
    "\\end{align}\n",
    "\n",
    "The stationary contribution has a dirac spectral distribution which may have practical consequences in order to distinguish/separate stationary and non-stationary contributions (to be precised/developped, parallel to be made with mean value and spectral estimates).\n",
    "\n",
    "We'll assume complex modulation enveloppe of the nonstationary contribution is characterized by an exponential autocorrelation function (search in Pincinbono 1994 , Shreier and Scharf 2010 and elsewhere the implications and generallity of the assumption):\n",
    "\n",
    "\\begin{align}\n",
    "R_{a, ns}(\\tau) &= \\mathbb{E} [ a_{ns}(t+\\tau) a^\\ast_{ns}(t) ], \\\\\n",
    "&= U_{ns}^2 e^{-|\\tau|/T_{ns}}\n",
    "\\end{align}\n",
    "\n",
    "This leads to:\n",
    "\n",
    "\\begin{align}\n",
    "R_{ns}(\\tau) = \\frac{1}{2} U_{ns}^2 e^{-|\\tau|/T_{ns}} \\cos(\\omega_k \\tau).\n",
    "\\end{align}\n",
    "\n",
    "The spectrum associated to such an autocorrelation is:\n",
    "\n",
    "\\begin{align}\n",
    "E_{ns}(\\omega) &= \\frac{1}{2} U_{ns}^2 T_{ns} \n",
    "\\Big [ \n",
    "\\frac{1}{1+T_{ns}^2 (\\omega - \\omega_k)^2}\n",
    "+\n",
    "\\frac{1}{1+T_{ns}^2 (\\omega + \\omega_k)^2}\n",
    "\\Big ] .\n",
    "\\end{align}\n",
    "\n",
    "which has a peak value of:\n",
    "\n",
    "\\begin{align}\n",
    "\\max E_{ns}(\\omega_k) &= \\frac{1}{2} U_{ns}^2 T_{ns} \n",
    "\\Big [ \n",
    "1\n",
    "+\n",
    "\\frac{1}{1+4 T_{ns}^2 \\omega_k^2}\n",
    "\\Big ] , \\\\\n",
    "&\\sim \\frac{1}{2} U_{ns}^2 T_{ns},\n",
    "\\end{align}\n",
    "\n",
    "where the assumption $T_{ns} \\omega_k \\ll 1$ was used in the approximation.\n",
    "\n",
    "\n",
    "Here is an illustration of the spectrum and synthetic time series for a semi-diurnal frequency, 10 day decorrelation time scale, unit amplitude (see [code](plots.ipynb)):\n",
    "\n",
    "<img src=\"figs/overview_high_tseries.png\" align=\"left\" width=\"300\"/>\n",
    "\n",
    "<img src=\"figs/overview_high_spectrum.png\" align=\"left\" width=\"300\"/>\n",
    "\n",
    "<img src=\"figs/overview_high_autocorrelation.png\" align=\"left\" width=\"300\"/>"
   ]
  },
  {
   "cell_type": "markdown",
   "metadata": {},
   "source": [
    "---\n",
    "\n",
    "## Illustrations of different cases\n",
    "\n",
    "Think about different cases to contrast:\n",
    "\n",
    "- strongly/weakly energetic low frequency signal\n",
    "- strongly/weakly energetic high frequency signal (focus say on semi-diurnal)\n",
    "- near-inertial / tidal frequency proximity\n",
    "- proximity to coastline?\n",
    "\n",
    "### Examples from the litterature:"
   ]
  },
  {
   "cell_type": "markdown",
   "metadata": {},
   "source": [
    "**Ferrari and Wunsch 2009 - Mid-Atlantic Ridge:**\n",
    "\n",
    "<img src=\"figs/ferrari09.png\" align=\"left\" width=\"600\"/>"
   ]
  },
  {
   "cell_type": "markdown",
   "metadata": {},
   "source": [
    "**Van Haren et al. 2002 - Bay of Biscay:**\n",
    "\n",
    "<img src=\"figs/vanharen02.png\" align=\"left\" width=\"600\"/>\n",
    "\n",
    "\n",
    "**Van Haren 2004 - Bay of Biscay / nonstationary tides:**\n",
    "\n",
    "<img src=\"figs/vanharen04.png\" align=\"left\" width=\"300\"/>"
   ]
  },
  {
   "cell_type": "markdown",
   "metadata": {},
   "source": [
    "**Yu et al. 2019:**\n",
    "\n",
    "<img src=\"figs/yu19.png\" align=\"left\" width=\"800\"/>"
   ]
  },
  {
   "cell_type": "markdown",
   "metadata": {},
   "source": [
    "---\n",
    "\n",
    "## temporally localized statistical diagnostics\n",
    "\n",
    "We list a multiple of approaches:\n",
    "\n",
    "- Band pass filtering + Hilbert transform\n",
    "- Finite size kernel filtering (typically harmonic analysis over small window as done online in the idealized numerical simulation)\n",
    "- Debiased Whittle likelihood [Guillaumin et al. 2017, Skykulski et al. 2019]\n",
    "- Wavelets: ridge analysis (Lilly's paper)\n"
   ]
  },
  {
   "cell_type": "markdown",
   "metadata": {},
   "source": [
    "**Band pass filtering**\n",
    "\n",
    "Band pass filtering may be performed in spectral space over a full time series (reference).\n",
    "It may also be performed by convolving the signal with finite size kernel (reference, FIR).\n",
    "\n",
    "*Parameters*: bandwidth, potentially kernel window size\n",
    "\n",
    "*Properties*: transfer function, side lobe height\n",
    "\n",
    "**to do:**\n",
    "\n",
    "- show choices for different filters, kernels in physical/frequency shape\n",
    "- compute theoretical signal amplitudes"
   ]
  },
  {
   "cell_type": "markdown",
   "metadata": {},
   "source": [
    "**Hilbert transform**\n",
    "\n",
    "If $a_k$ has a low-frequency spectrum that does not reach $\\omega_k$, the Bedrosian's theorem tells us that the Hilbert transform of the product $a_k e^{i\\omega_k t}$ is the product of $a_k$ by the Hilbert transform of $e^{i\\omega_k t}$, which is $-i e^{i \\omega_k t}$ (assuming $\\omega_k>0$).\n",
    "This leads to:\n",
    "\n",
    "\\begin{align}\n",
    "u_k(t) + i \\mathcal{H} \\Big [ u_k(t) \\Big ] &= \n",
    "\\Re \\Big \\{ a_k(t)  e^{i\\omega_k t} \\Big \\}\n",
    "+i\\Re \\Big \\{ -i a_k(t) e^{i\\omega_k t} \\Big \\}, \\\\\n",
    "%&= a_\\omega(t)  e^{i\\omega t} /2 + a^\\ast_\\omega(t)  e^{-i\\omega t} /2\n",
    "%+ i ( -i a_\\omega(t) e^{i\\omega t} /2 + i a^\\ast_\\omega(t) e^{-i\\omega t} /2 )\n",
    "&=a_k(t)  e^{i\\omega_k t}.\n",
    "\\end{align}\n",
    "\n",
    "which provides direct access to the signal instantaneous amplitude and phase.\n",
    "\n",
    "*Assumptions*: compact (low-frequency) spectrum of the enveloppe\n"
   ]
  },
  {
   "cell_type": "markdown",
   "metadata": {},
   "source": [
    "**Limited window filtering**\n",
    "\n",
    "Typically done online in idealized numerical simulations.\n",
    "\n",
    "Report on performance (cross-projection issues)\n",
    "\n",
    "need to copy past from overleaf\n"
   ]
  },
  {
   "cell_type": "markdown",
   "metadata": {},
   "source": [
    "---\n",
    "\n",
    "## temporally averaged statistical diagnostics\n",
    "\n",
    "\n",
    "The objective here is first to extract the *variance* and *bandwidth* of the high frequency component of interest.\n",
    "Another objective may also be to extract the stationary contribution.\n",
    "Several options can be considered:\n",
    "\n",
    "- computation of the averaged frequency spectrum and analysis of this spectrum (Elipot 2010 for near-inertial variability, Zaron's paper in the spatial domain for non-stationary contribution estimates, Yu et al. 2019).\n",
    "- computation of an autocorrelation and fit of a model (Zoé's current approach).\n",
    "- diagnostics via band-pass filtering and Hilbert transform"
   ]
  },
  {
   "cell_type": "markdown",
   "metadata": {},
   "source": [
    "**Averaged spectrum and analysis**\n",
    "\n",
    "... List questions\n"
   ]
  },
  {
   "cell_type": "markdown",
   "metadata": {},
   "source": [
    "**Autocorrelation and fit**\n",
    "\n",
    "... List questions\n"
   ]
  },
  {
   "cell_type": "markdown",
   "metadata": {},
   "source": [
    "**Band-filtering and Hilbert transforms**\n",
    "\n",
    "... List questions\n"
   ]
  },
  {
   "cell_type": "markdown",
   "metadata": {},
   "source": [
    "---\n",
    "\n",
    "## references\n"
   ]
  },
  {
   "cell_type": "markdown",
   "metadata": {},
   "source": [
    "**[Erkmen and Shapiro 2006]** Erkmen, B. I., and Shapiro, J. H. Optical coherence theory for phase-sensitive light. In Quantum Communications and Quantum Imaging IV (2006), vol. 6305, International Society for Optics and Photonics, p. 63050G.\n",
    "\n",
    "**[Elipot 2010]** Elipot, S., Lumpkin, R., and Prieto, G. Modification of inertial oscillations by the mesoscale eddy field. Journal of Geophysical Research: Oceans 115, C9 (2010).\n",
    "\n",
    "**[Ferrari and Wunsch 2009]** Ferrari, R., and Wunsch, C. Ocean circulation kinetic energy: Reservoirs, sources, and sinks. Annual Review of Fluid Mechanics 41 (2009), 253–282.\n",
    "\n",
    "**[Guillaumin et al. 2017]** Guillaumin, A. P., Sykulski, A. M., Olhede, S. C., Early, J. J., and Lilly, J. M. Analysis of non-stationary modulated time series with applications to oceanographic surface flow measurements. Journal of Time Series Analysis 38, 5 (2017), 668–710.\n",
    "\n",
    "**[Shreier and Scharf 2010]** Schreier, P. J., and Scharf, L. L. Statistical signal processing of complex-valued data: the theory of improper and noncircular signals. Cambridge university press, 2010.\n",
    "\n",
    "**[Skykulski et al. 2019]** Sykulski, A. M., Olhede, S. C., Guillaumin, A. P., Lilly, J. M., and Early, J. J. The debiased whittle likelihood. Biometrika 106, 2 (2019), 251–266.\n",
    "\n",
    "**[Van Haren et al. 2002]** van Haren, H., Maas, L., and van Aken, H. On the nature of internal wave spectra near a continental slope. Geophysical Research Letters 29, 12 (2002), 57–1.\n",
    "\n",
    "**[Van Haren 2004]** van Haren, H. Incoherent internal tidal currents in the deep ocean. Ocean Dyn. 54 (2004), 66–76.\n",
    "\n",
    "**[Yu et al. 2019]** Yu, X., Ponte, A. L., Elipot, S., Menemenlis, D., Zaron, E., and Abernathey, R. Surface kinetic energy distributions in the global oceans from a high-resolution numerical model and surface drifter observations. Geophys. Res. Lett. (2019)."
   ]
  },
  {
   "cell_type": "code",
   "execution_count": null,
   "metadata": {},
   "outputs": [],
   "source": []
  }
 ],
 "metadata": {
  "kernelspec": {
   "display_name": "Python 3",
   "language": "python",
   "name": "python3"
  },
  "language_info": {
   "codemirror_mode": {
    "name": "ipython",
    "version": 3
   },
   "file_extension": ".py",
   "mimetype": "text/x-python",
   "name": "python",
   "nbconvert_exporter": "python",
   "pygments_lexer": "ipython3",
   "version": "3.7.10"
  }
 },
 "nbformat": 4,
 "nbformat_minor": 4
}
