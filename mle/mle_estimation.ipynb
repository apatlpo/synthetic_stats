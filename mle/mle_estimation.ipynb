{
 "cells": [
  {
   "cell_type": "markdown",
   "metadata": {},
   "source": [
    "# autocorrelation parametric estimation with maximum likehood\n",
    "\n",
    "This notebook adapts Fleming et al. 2014 to the estimation of drifter's velocity autocorrelations.\n",
    "Unlike Fleming et al. 2014, we'll not be concerned with position statistics but velocity statistics.\n",
    "\n",
    "\n",
    "### references:\n",
    "- [Fleming et al. 2014](https://www.google.com/search?q=10.1111%2F2041-210X.12176): Non-Markovian maximum likelihood estimation of autocorrelated movement processes\n",
    "- [Gurarie et al. 2017](https://movementecologyjournal.biomedcentral.com/articles/10.1186/s40462-017-0103-3): Correlated velocity models as a fundamental unit of animal movement: synthesis and applications\n",
    "- [Pawitan 2001](https://books.google.fr/books?id=M-3pSCVxV5oC&printsec=frontcover&redir_esc=y#v=onepage&q&f=false): In All Likelihood: Statistical Modelling and Inference Using Likehood"
   ]
  },
  {
   "cell_type": "markdown",
   "metadata": {},
   "source": [
    "---\n",
    "## univariate case\n",
    "\n",
    "We consider a real time series $u(t)$ and aim at estimating it's mean $\\mu(t) = \\langle u(t) \\rangle$, it's variance along with parameters describing its autocorrelation $\\sigma(t, t')$ (e.g. time scale of decay), where:\n",
    "\n",
    "\\begin{align}\n",
    "\\sigma(t, t') = \\big \\langle (u(t) - \\mu) (u(t') - \\mu) \\big \\rangle\n",
    "\\end{align}\n",
    "\n",
    "We'll assume that the time series follows a Gaussian distribution.\n",
    "**This Gaussian assumption may/should be verified in practice**.\n",
    "We'll also assume now that data is discrete such that the marginal probability distribution of the observed time-series data is given by:\n",
    "\n",
    "\\begin{align}\n",
    "P[\\mathbf{u}] = \n",
    "\\frac{\\exp \\Big ( -\\frac{1}{2} [ \\mathbf{u} - \\mathbf{m} ]^T \\boldsymbol{\\Sigma}^{-1} [ \\mathbf{u} - \\mathbf{m} ] \\Big )  }\n",
    "{\\sqrt{(2\\pi)^N |\\mathbf{\\boldsymbol{\\Sigma}}|}},\n",
    "\\end{align}\n",
    "\n",
    "where $N$ is the number of data points, $\\mathbf{u}$ is the velocity time series, $\\mathbf{m}$ is the sampled mean, and $\\boldsymbol{\\Sigma}$ is the sampled autocorrelation:\n",
    "\n",
    "\\begin{align}\n",
    "\\mathbf{U}_i &=u(t_i), \\\\\n",
    "\\mathbf{M}_i &=\\mu(t_i), \\\\\n",
    "\\boldsymbol{\\Sigma}_{i,j} &= \\sigma(t_i,t_j).\n",
    "\\end{align}\n",
    "\n",
    "where mean and autocorrelation may not be stationary (in general, they will be below).\n",
    "The log-likelhood function is then:\n",
    "\n",
    "\\begin{align}\n",
    "L = -\\frac{1}{2} \\log | \\boldsymbol{\\Sigma} | \n",
    "- \\frac{1}{2} [ \\mathbf{u} - \\mathbf{m} ]^T \\boldsymbol{\\Sigma}^{-1} [ \\mathbf{u} - \\mathbf{m} ].\n",
    "\\end{align}\n",
    "\n",
    "Note that we dropped the $2\\pi$ factor here but the combinations of different time series with unequal length may require to consider its contribution.\n",
    "We assume from now on that statistics are stationary: $\\mu(t)=\\mu$, $\\sigma(t,t')=\\sigma(t'-t)$.\n",
    "We'll also assume the autocorrelation may be written as $\\sigma(t'-t)=\\sigma_0 c(t'-t)$, where $\\sigma_0$ is the variance of the signal.\n",
    "The likelihood is then written as:\n",
    "\n",
    "\\begin{align}\n",
    "L = -\\frac{1}{2} \\log | \\boldsymbol{C} | \n",
    "-\\frac{N}{2} \\log \\sigma_0\n",
    "- \\frac{1}{2\\sigma_0} [ \\mathbf{u} - \\mu\\mathbb{1} ]^T \\boldsymbol{C}^{-1} [ \\mathbf{u} - \\mu\\mathbb{1} ]\n",
    "\\end{align}\n",
    "\n"
   ]
  },
  {
   "cell_type": "markdown",
   "metadata": {},
   "source": [
    "The goal is now to find the maximum likelihood over $\\mu$, $\\sigma_0$ and the parameters describing $c$.\n",
    "The process of finding this maximum may be decomposed into maximizations over $\\mu$ and $\\sigma_0$ and then autocorrelation parameters.\n",
    "\n",
    "### profiling the mean\n",
    "\n",
    "\\begin{align}\n",
    "\\frac{\\partial L}{\\partial \\mu} &= \\frac{1}{\\sigma_0} \\mathbb{1}^T \\boldsymbol{C}^{-1} [ \\mathbf{u} - \\mu\\mathbb{1} ],\n",
    "\\end{align}\n",
    "\n",
    "which, when equalled to zero, leads to the following value for the mean:\n",
    "\n",
    "\\begin{align}\n",
    "\\hat{\\mu} &= \\frac{\\mathbb{1}^T \\boldsymbol{C}^{-1} \\mathbf{u}}{\\mathbb{1}^T \\boldsymbol{C}^{-1} \\mathbb{1}}, \\\\\n",
    "&= \\frac{\\sum_i w_i u_j}{\\sum_{i} w_i}, \\\\\n",
    "w_i &= \\sum_{j} c_{ij}^{-1}.\n",
    "\\end{align}\n",
    "\n",
    "Observed Fisher information (Pawitan p32) is:\n",
    "\n",
    "\\begin{align}\n",
    "I &= -\\frac{\\partial^2 L}{\\partial \\mu^2}, \\\\\n",
    "&= \\frac{1}{\\sigma_0} \\mathbb{1}^T \\boldsymbol{C}^{-1} \\mathbb{1}^T\n",
    "= \\frac{1}{\\sigma_0} \\sum_{ij} c_{ij}^{-1},\n",
    "\\end{align}\n",
    "\n",
    "And the asymptotic standard error associate with the mean is thus:\n",
    "\n",
    "\\begin{align}\n",
    "SE(\\hat{\\mu}) &= I^{-1/2} = \\sqrt{\\frac{\\sum_{ij} c_{ij}^{-1}}{\\sigma_0}}.\n",
    "\\end{align}\n"
   ]
  },
  {
   "cell_type": "markdown",
   "metadata": {},
   "source": [
    "### profiling the variance\n",
    "\n",
    "Differentiating with respect to the variance $\\sigma_0$ leads to:\n",
    "\n",
    "\\begin{align}\n",
    "\\partial_{\\sigma_0} L = \n",
    "-\\frac{N}{2\\sigma_0}\n",
    "+ \\frac{1}{2\\sigma_0^2} [ \\mathbf{u} - \\mu\\mathbb{1} ]^T \\boldsymbol{C}^{-1} [ \\mathbf{u} - \\mu\\mathbb{1} ]\n",
    "\\end{align}\n",
    "\n",
    "This is null for:\n",
    "\n",
    "\\begin{align}\n",
    "\\hat{\\sigma}_0 = \\frac{1}{N} [ \\mathbf{u} - \\mu\\mathbb{1} ]^T \\boldsymbol{C}^{-1} [ \\mathbf{u} - \\mu\\mathbb{1} ],\n",
    "\\end{align}\n",
    "\n",
    "which is the sample correlation and depends on yet to be determined autocorrelation parameters.\n",
    "\n",
    "Observed Fisher information is:\n",
    "\n",
    "\\begin{align}\n",
    "I &= -\\frac{\\partial^2 L}{\\partial \\sigma_0^2}, \\\\\n",
    "&= \\frac{N}{\\hat{\\sigma}_0^2},\n",
    "\\end{align}\n",
    "\n",
    "Leading to the following asymptotic error:\n",
    "\n",
    "\\begin{align}\n",
    "SE(\\hat{\\sigma}_0) &= \\frac{\\hat{\\sigma}_0}{\\sqrt{N}}.\n",
    "\\end{align}\n",
    "\n",
    "\n"
   ]
  },
  {
   "cell_type": "markdown",
   "metadata": {},
   "source": [
    "### maximizing the likelihood over autocorrelation parameters\n",
    "\n",
    "It is now possible to maximized the \"profile\" likelihood (i.e. that with mean and variance optimal values have been plugged, see Pawitan p61).\n"
   ]
  },
  {
   "cell_type": "markdown",
   "metadata": {},
   "source": [
    "### illustration\n",
    "\n",
    "Generate a 100 day time series with a 10 days decorrelation timescale"
   ]
  },
  {
   "cell_type": "code",
   "execution_count": 1,
   "metadata": {
    "tags": []
   },
   "outputs": [
    {
     "name": "stderr",
     "output_type": "stream",
     "text": [
      "/Users/aponte/.miniconda3/envs/stats/lib/python3.8/site-packages/statsmodels/compat/pandas.py:65: FutureWarning: pandas.Int64Index is deprecated and will be removed from pandas in a future version. Use pandas.Index with the appropriate dtype instead.\n",
      "  from pandas import Int64Index as NumericIndex\n"
     ]
    }
   ],
   "source": [
    "import xarray as xr\n",
    "import numpy as np\n",
    "\n",
    "from numpy.linalg import inv, slogdet\n",
    "from scipy.optimize import minimize\n",
    "from scipy.stats import chi2\n",
    "import statsmodels.api as sm\n",
    "\n",
    "import matplotlib.pyplot as plt\n",
    "\n",
    "import sstats.tseries as ts\n",
    "import sstats.sigp as sigp"
   ]
  },
  {
   "cell_type": "code",
   "execution_count": 2,
   "metadata": {
    "tags": []
   },
   "outputs": [],
   "source": [
    "#ts.exp_autocorr?"
   ]
  },
  {
   "cell_type": "code",
   "execution_count": 3,
   "metadata": {},
   "outputs": [
    {
     "data": {
      "text/plain": [
       "[<matplotlib.lines.Line2D at 0x7f869d465d60>]"
      ]
     },
     "execution_count": 3,
     "metadata": {},
     "output_type": "execute_result"
    },
    {
     "data": {
      "image/png": "[encoded data removed]",
      "text/plain": [
       "<Figure size 432x288 with 1 Axes>"
      ]
     },
     "metadata": {
      "needs_background": "light"
     },
     "output_type": "display_data"
    }
   ],
   "source": [
    "dt = 3 # hours\n",
    "u = ts.exp_autocorr((100, dt/24), 10, 1, seed=0).compute()\n",
    "u.plot()"
   ]
  },
  {
   "cell_type": "markdown",
   "metadata": {},
   "source": [
    "Let's verify the decorrelation timescale is about 10 days"
   ]
  },
  {
   "cell_type": "code",
   "execution_count": 4,
   "metadata": {},
   "outputs": [
    {
     "data": {
      "image/png": "[encoded data removed]",
      "text/plain": [
       "<Figure size 864x288 with 1 Axes>"
      ]
     },
     "metadata": {
      "needs_background": "light"
     },
     "output_type": "display_data"
    }
   ],
   "source": [
    "nlags = int(24/dt*50)\n",
    "fig, ax = plt.subplots(1,1, figsize=(12,4))\n",
    "_ = sm.graphics.tsa.plot_acf(u, lags=nlags, ax=ax)"
   ]
  },
  {
   "cell_type": "code",
   "execution_count": 5,
   "metadata": {},
   "outputs": [
    {
     "data": {
      "image/png": "[encoded data removed]",
      "text/plain": [
       "<Figure size 864x288 with 1 Axes>"
      ]
     },
     "metadata": {
      "needs_background": "light"
     },
     "output_type": "display_data"
    }
   ],
   "source": [
    "C = sigp.correlate(u, u).persist()\n",
    "C.plot(figsize=(12,4))\n",
    "plt.grid()"
   ]
  },
  {
   "cell_type": "code",
   "execution_count": 6,
   "metadata": {},
   "outputs": [
    {
     "name": "stdout",
     "output_type": "stream",
     "text": [
      "Confidence ratio for likelihood = 0.26, log = -1.4\n"
     ]
    }
   ],
   "source": [
    "alpha = 0.1\n",
    "c_ratio = sigp.likelihood_confidence_ratio(alpha=alpha)\n",
    "log_c_ratio = np.log(c_ratio)\n",
    "print(f\"Confidence ratio for likelihood = {c_ratio:.2f}, log = {log_c_ratio:.1f}\")"
   ]
  },
  {
   "cell_type": "markdown",
   "metadata": {},
   "source": [
    "Explore now sensitivity to timescale T"
   ]
  },
  {
   "cell_type": "code",
   "execution_count": 7,
   "metadata": {},
   "outputs": [],
   "source": [
    "c = lambda dt, T: np.exp(-abs(dt)/T)\n",
    "T = np.arange(2, 30, .5)"
   ]
  },
  {
   "cell_type": "code",
   "execution_count": 8,
   "metadata": {},
   "outputs": [
    {
     "name": "stdout",
     "output_type": "stream",
     "text": [
      "Maximum value found at 13.0 days\n"
     ]
    }
   ],
   "source": [
    "ds_exp = sigp.likelihood_xr(u, c, dict(T=T)) #, jitter=-10\n",
    "\n",
    "# find maximum\n",
    "T_max = ds_exp[\"T\"].isel(T=ds_exp.L.argmax())\n",
    "print(f\"Maximum value found at {float(T_max)} days\")\n",
    "\n",
    "# compute second derivative\n",
    "I = - ds_exp.L.differentiate(\"T\").differentiate(\"T\")"
   ]
  },
  {
   "cell_type": "code",
   "execution_count": 9,
   "metadata": {},
   "outputs": [
    {
     "data": {
      "text/plain": [
       "Text(0.5, 1.0, 'Likelihood function as a function of decorrelation timescale')"
      ]
     },
     "execution_count": 9,
     "metadata": {},
     "output_type": "execute_result"
    },
    {
     "data": {
      "image/png": "[encoded data removed]",
      "text/plain": [
       "<Figure size 432x288 with 1 Axes>"
      ]
     },
     "metadata": {
      "needs_background": "light"
     },
     "output_type": "display_data"
    }
   ],
   "source": [
    "fig, ax = plt.subplots(1,1)\n",
    "np.exp(ds_exp.L-ds_exp.L.max()).plot(ax=ax, label=\"L(theta)/L(theta_hat)\")\n",
    "ax.grid()\n",
    "ax.axhline(c_ratio, ls=\"--\", color=\"k\", label=f\"{alpha*100}% level\")\n",
    "ax.axvline(T_max, ls=\"--\", color=\"orange\", label=f\"max\")\n",
    "ax.legend()\n",
    "ax.set_title(\"Likelihood function as a function of decorrelation timescale\")"
   ]
  },
  {
   "cell_type": "markdown",
   "metadata": {},
   "source": [
    "Inspect the second derivative"
   ]
  },
  {
   "cell_type": "code",
   "execution_count": 10,
   "metadata": {},
   "outputs": [
    {
     "name": "stdout",
     "output_type": "stream",
     "text": [
      " I(T_max) = 0.02, 1/np.sqrt(I)=6.35\n"
     ]
    },
    {
     "data": {
      "image/png": "[encoded data removed]",
      "text/plain": [
       "<Figure size 432x288 with 1 Axes>"
      ]
     },
     "metadata": {
      "needs_background": "light"
     },
     "output_type": "display_data"
    }
   ],
   "source": [
    "fig, ax = plt.subplots(1,1)\n",
    "I.plot()\n",
    "ax.set_ylim(0, .5)\n",
    "ax.axvline(T_max, color=\"orange\", ls=\"--\")\n",
    "ax.grid()\n",
    "\n",
    "I_max = float(I.sel(T=T_max))\n",
    "print(f\" I(T_max) = {I_max:.2f}, 1/np.sqrt(I)={1/np.sqrt(I_max):.2f}\")"
   ]
  },
  {
   "cell_type": "markdown",
   "metadata": {},
   "source": [
    "As a side not, it may be hard to see there is maximum from the log likelihood function:"
   ]
  },
  {
   "cell_type": "code",
   "execution_count": 11,
   "metadata": {},
   "outputs": [
    {
     "data": {
      "text/plain": [
       "[<matplotlib.lines.Line2D at 0x7f869d25bac0>]"
      ]
     },
     "execution_count": 11,
     "metadata": {},
     "output_type": "execute_result"
    },
    {
     "data": {
      "image/png": "[encoded data removed]",
      "text/plain": [
       "<Figure size 432x288 with 1 Axes>"
      ]
     },
     "metadata": {
      "needs_background": "light"
     },
     "output_type": "display_data"
    }
   ],
   "source": [
    "ds_exp.L.plot()"
   ]
  },
  {
   "cell_type": "markdown",
   "metadata": {},
   "source": [
    "Compare now with a gaussian (erroneous) assumption (instead of an exponential)"
   ]
  },
  {
   "cell_type": "code",
   "execution_count": 12,
   "metadata": {},
   "outputs": [],
   "source": [
    "c_gaussian = lambda dt, T: np.exp(-abs(dt/T)**2)"
   ]
  },
  {
   "cell_type": "code",
   "execution_count": 13,
   "metadata": {},
   "outputs": [],
   "source": [
    "ds_gaussian = sigp.likelihood_xr(u, c_gaussian, dict(T=T), jitter=-10) "
   ]
  },
  {
   "cell_type": "code",
   "execution_count": 14,
   "metadata": {},
   "outputs": [
    {
     "data": {
      "text/plain": [
       "<matplotlib.legend.Legend at 0x7f869d1f6df0>"
      ]
     },
     "execution_count": 14,
     "metadata": {},
     "output_type": "execute_result"
    },
    {
     "data": {
      "image/png": "[encoded data removed]",
      "text/plain": [
       "<Figure size 432x288 with 1 Axes>"
      ]
     },
     "metadata": {
      "needs_background": "light"
     },
     "output_type": "display_data"
    }
   ],
   "source": [
    "fig, ax = plt.subplots(1,1)\n",
    "#np.exp(ds.L-ds.L.max()).plot(ax=ax, label=\"L-max(L)\")\n",
    "#np.exp(ds.L_gaussian-ds.L.max()).rename(\"L_gaussian\").plot(ax=ax, label=\"L_gaussian-max(L)\")\n",
    "(ds_exp.L-ds_exp.L.max()).plot(ax=ax, label=\"L-max(L)\")\n",
    "(ds_gaussian.L-ds_exp.L.max()).rename(\"L_gaussian-max(L)\").plot(ax=ax, label=\"L_gaussian-max(L)\")\n",
    "ax.grid()\n",
    "ax.set_title(\"likelihood, compare with Gaussian assumption\")\n",
    "ax.legend()"
   ]
  },
  {
   "cell_type": "markdown",
   "metadata": {
    "tags": []
   },
   "source": [
    "---\n",
    "\n",
    "## Optimization to find the maximum\n",
    "\n",
    "Improvements:\n",
    "\n",
    "- does not converge (probably need to tweak tolerance manually)\n",
    "- hessian look wrong from scipy, have to compute manually"
   ]
  },
  {
   "cell_type": "code",
   "execution_count": 15,
   "metadata": {
    "tags": []
   },
   "outputs": [],
   "source": [
    "def minimize_L(u, t, c, params, deltas=None, options={}, **kwargs):\n",
    "    \"\"\" Minimize log likelihood\n",
    "\n",
    "    Parameters\n",
    "    ----------\n",
    "    u: np.array\n",
    "        data time series\n",
    "    t: np.array\n",
    "        time series\n",
    "    c: method\n",
    "        returns the autocorrelation (1 at lag 0) as a function of lag and *args parameters\n",
    "    params: dict\n",
    "        dict of initial values for the parameters required to evaluate the autocorrelation with c\n",
    "        order must match that of c's signature\n",
    "    deltas: dict\n",
    "        parameter steps used to compute the log likelihood hessian\n",
    "    options: dict, optional\n",
    "        options for the minimization algorithm (\"options\" kwarg of scipy.optimize.minimize)\n",
    "    **kwargs:\n",
    "        kwargs passed to minimize\n",
    "    \"\"\"\n",
    "\n",
    "    labels = list(params)\n",
    "    # convert to np.array\n",
    "    x0 = np.array([params[p] for p in labels])\n",
    "\n",
    "    _options = dict(maxiter=100, disp=True, return_all=True)\n",
    "    _options.update(**options)\n",
    "\n",
    "    # maxiter: 6 seems to insure convergence is the present case\n",
    "    res = minimize(lambda x: -sigp.likelihood_only(u, t, c, *x),\n",
    "                   x0,\n",
    "                   #method='Nelder-Mead',\n",
    "                   options=_options,\n",
    "                   **kwargs,\n",
    "                  )\n",
    "    \n",
    "    # put the result in a xarray dataset\n",
    "    niter = len(res[\"allvecs\"])\n",
    "    ds = xr.Dataset(coords=dict(iteration=(\"iteration\", np.arange(niter)),\n",
    "                                parameter=(\"parameter\", labels),\n",
    "                                #parameters_bis=(\"parameters_bis\", labels),\n",
    "                               ),\n",
    "                   )\n",
    "    ds[\"x\"] = (\"parameter\", res[\"x\"])\n",
    "    ds[\"x_iter\"] = ((\"iteration\", \"parameter\"), np.array(res[\"allvecs\"]))\n",
    "    _exclude = [\"allvecs\", \"hess_inv\", \"jac\", \"x\", \"fun\"]\n",
    "    ds = ds.assign_attrs(L_max = -res[\"fun\"],\n",
    "                         **{k: v for k,v in res.items() if k not in _exclude},\n",
    "                        )\n",
    "    #ds.attrs[\"hess_inv\"] = res[\"hess_inv\"]\n",
    "    #ds[\"jac\"] = (\"parameter\", res[\"jac\"])\n",
    "\n",
    "    # compute hessian diag manually\n",
    "    params = {p: float(ds[\"x\"].sel(parameter=p))  for p in labels}\n",
    "    if deltas is None:\n",
    "        deltas = {p: 1. for p in labels} # need to be passed as argument\n",
    "    I = sigp.compute_hessian_diag(u, t, c, params, deltas)\n",
    "    ds[\"I\"] = (\"parameter\", [I[p] for p in labels])\n",
    "\n",
    "    ds[\"x_err\"] = 1/np.sqrt(ds[\"I\"])\n",
    "    \n",
    "    return ds\n",
    "    \n",
    "# default is BFGS, see:\n",
    "#    https://docs.scipy.org/doc/scipy/reference/generated/scipy.optimize.minimize.html#scipy.optimize.minimize\n",
    "#    https://docs.scipy.org/doc/scipy/reference/optimize.minimize-bfgs.html#optimize-minimize-bfgs\n",
    "\n",
    "# could we set a lower bound on increments?"
   ]
  },
  {
   "cell_type": "code",
   "execution_count": 16,
   "metadata": {},
   "outputs": [
    {
     "name": "stdout",
     "output_type": "stream",
     "text": [
      "Warning: Maximum number of iterations has been exceeded.\n",
      "         Current function value: -1077.794505\n",
      "         Iterations: 10\n",
      "         Function evaluations: 40\n",
      "         Gradient evaluations: 20\n"
     ]
    }
   ],
   "source": [
    "x0 = 5. # should use the max found via profiling\n",
    "ds_min = minimize_L(u, u.time, c, dict(T=x0), options=dict(maxiter=10))\n",
    "#ds.attrs[\"L_max\"]"
   ]
  },
  {
   "cell_type": "code",
   "execution_count": 17,
   "metadata": {},
   "outputs": [
    {
     "data": {
      "image/png": "[encoded data removed]",
      "text/plain": [
       "<Figure size 432x288 with 1 Axes>"
      ]
     },
     "metadata": {
      "needs_background": "light"
     },
     "output_type": "display_data"
    }
   ],
   "source": [
    "fig, ax = plt.subplots(1,1)\n",
    "ds_min[\"x_iter\"].plot(ax=ax)\n",
    "ax.set_title(\"convergence of T\")\n",
    "ax.set_ylabel(\"\")\n",
    "ax.grid()"
   ]
  },
  {
   "cell_type": "markdown",
   "metadata": {},
   "source": [
    "Recompute log-Likelihood to have mean and variance as well as associated asymptotic errors"
   ]
  },
  {
   "cell_type": "code",
   "execution_count": 18,
   "metadata": {},
   "outputs": [],
   "source": [
    "T = float(ds_min.x)\n",
    "d = sigp.likelihood(u, u.time, c, T)"
   ]
  },
  {
   "cell_type": "code",
   "execution_count": 19,
   "metadata": {},
   "outputs": [
    {
     "name": "stdout",
     "output_type": "stream",
     "text": [
      "Solution is T = 12.78d with asymptotic error 8.54e+00d\n",
      "mean = -0.75 with asymptotic error 1.96e+00\n",
      "variance = 1.28 with asymptotic error 4.51e-02\n"
     ]
    }
   ],
   "source": [
    "print(f\"Solution is T = {T:.2f}d with asymptotic error {float(ds_min.x_err):.2e}d\")\n",
    "print(\"mean = {:.2f} with asymptotic error {:.2e}\".format(d[\"mu\"],d[\"mu_err\"]))\n",
    "print(\"variance = {:.2f} with asymptotic error {:.2e}\".format(d[\"sigma0\"], d[\"sigma0_err\"]))"
   ]
  },
  {
   "cell_type": "markdown",
   "metadata": {},
   "source": [
    "Errors on T and sigma0 look way too small, issue with interpretation of the hessian? \\\n",
    "Could try to manually profile the full log likelihood to verify these values"
   ]
  },
  {
   "cell_type": "code",
   "execution_count": null,
   "metadata": {},
   "outputs": [],
   "source": []
  },
  {
   "cell_type": "code",
   "execution_count": null,
   "metadata": {},
   "outputs": [],
   "source": []
  },
  {
   "cell_type": "code",
   "execution_count": null,
   "metadata": {},
   "outputs": [],
   "source": []
  },
  {
   "cell_type": "markdown",
   "metadata": {
    "jp-MarkdownHeadingCollapsed": true,
    "tags": []
   },
   "source": [
    "## Questions, to do list \n",
    "\n",
    "\n",
    "General questions:\n",
    "\n",
    "- should we consider EM?\n",
    "\n",
    "Technical questions:\n",
    "\n",
    "- dealing with poor covariance conditionning: pseudo-inverse SVD, rcond ? or other approach?\n",
    "- `sqrt(diag(hess_inv)) =? 1/sqrt(diag(hess))`\n",
    "\n",
    "\n",
    "To do:\n",
    "\n",
    "- [X] refine result with scipy optimize\n",
    "- [X] add asymptotic error bars:  needs to do mean and variance !!\n",
    "- [ ] fix issue with asymptotic error which looks to small\n",
    "- [ ] explore sensitivity to parameters (timeseries length, decorrelation timescale, ...)\n",
    "- [ ] test a different of model of autocorrelation and perform an AIC\n"
   ]
  },
  {
   "cell_type": "code",
   "execution_count": null,
   "metadata": {},
   "outputs": [],
   "source": []
  },
  {
   "cell_type": "code",
   "execution_count": null,
   "metadata": {},
   "outputs": [],
   "source": []
  },
  {
   "cell_type": "code",
   "execution_count": null,
   "metadata": {},
   "outputs": [],
   "source": []
  },
  {
   "cell_type": "code",
   "execution_count": null,
   "metadata": {},
   "outputs": [],
   "source": []
  },
  {
   "cell_type": "code",
   "execution_count": null,
   "metadata": {},
   "outputs": [],
   "source": []
  },
  {
   "cell_type": "code",
   "execution_count": null,
   "metadata": {},
   "outputs": [],
   "source": []
  },
  {
   "cell_type": "markdown",
   "metadata": {},
   "source": [
    "---\n",
    "## multivariate case\n"
   ]
  },
  {
   "cell_type": "code",
   "execution_count": null,
   "metadata": {},
   "outputs": [],
   "source": []
  },
  {
   "cell_type": "code",
   "execution_count": null,
   "metadata": {},
   "outputs": [],
   "source": []
  },
  {
   "cell_type": "code",
   "execution_count": null,
   "metadata": {},
   "outputs": [],
   "source": []
  },
  {
   "cell_type": "markdown",
   "metadata": {},
   "source": [
    "---\n",
    "## combining time windows\n",
    "\n",
    "In the absence of correlation between windows the overall likelihood will be the sum of the window likelihoods.\n",
    "\n",
    "This assumption simplifies the estimation of the likehood function.\n"
   ]
  },
  {
   "cell_type": "code",
   "execution_count": null,
   "metadata": {},
   "outputs": [],
   "source": []
  },
  {
   "cell_type": "code",
   "execution_count": null,
   "metadata": {},
   "outputs": [],
   "source": []
  },
  {
   "cell_type": "code",
   "execution_count": null,
   "metadata": {},
   "outputs": [],
   "source": []
  },
  {
   "cell_type": "code",
   "execution_count": null,
   "metadata": {},
   "outputs": [],
   "source": []
  },
  {
   "cell_type": "markdown",
   "metadata": {},
   "source": [
    "## old, to be updated: multivariate case\n",
    "\n",
    "This notebook adapts Fleming et al. 2014 to the estimation of drifter's velocity autocorrelations.\n",
    "Unlike Fleming et al. 2014, we'll not be concerned with position statistics but velocity statistics.\n",
    "\n",
    "The velocity is described by its first two cumulants which are:\n",
    "- it's mean $\\boldsymbol{\\mu} = \\langle \\mathbf{u} \\rangle$\n",
    "where $\\mathbf{u}=(u, v)$\n",
    "- its autocorrelation: $\\boldsymbol{\\sigma}\n",
    "=\\langle (\\mathbf{u} - \\overline{\\mathbf{u}}) ) (\\mathbf{u} - \\overline{\\mathbf{u}}) )^T \\rangle$\n",
    "\n",
    "Note that $u$ and $v$ may represent here two directions of motions or the real and imaginary parts of a complex enveloppe.\n",
    "\n",
    "We'll assume that the velocity is Gaussian.\n",
    "**This Gaussian assumption may/should be verified**.\n",
    "\n",
    "$\n",
    "\\begin{align}\n",
    "P[\\mathbf{u}] = \n",
    "\\frac{\\exp \\Big ( -\\frac{1}{2}  \\iint  dt dt' [ \\mathbf{u}(t) - \\boldsymbol{\\mu}(t) ]^T \\boldsymbol{\\sigma}^{-1}(t,t') [ \\mathbf{u}(t') - \\boldsymbol{\\mu}(t') ] \\Big )  }\n",
    "{\\sqrt{|2\\pi \\mathbf{\\boldsymbol{\\sigma}}|}}\n",
    "\\end{align}\n",
    "$\n",
    "\n",
    "The discrete version of the time series data is:\n",
    "\n",
    "$\n",
    "\\begin{align}\n",
    "P[\\mathbf{U}] = \n",
    "\\frac{\\exp \\Big ( -\\frac{1}{2} [ \\mathbf{U} - \\mathbf{M} ]^T \\boldsymbol{\\Sigma}^{-1} [ \\mathbf{U} - \\mathbf{M} ] \\Big )  }\n",
    "{\\sqrt{|2\\pi \\mathbf{\\boldsymbol{\\Sigma}}|}}\n",
    "\\end{align}\n",
    "$\n",
    "\n",
    "where $\\mathbf{U}$ is the velocity time series, $\\mathbf{M}$ is the sampled mean, and $\\boldsymbol{\\Sigma}$ is sampled autocorrelation:\n",
    "\n",
    "$\n",
    "\\begin{align}\n",
    "\\mathbf{U}_i &=\\mathbf{u}(t_i) \\\\\n",
    "\\mathbf{M}_i &=\\boldsymbol{\\mu}(t_i) \\\\\n",
    "\\boldsymbol{\\Sigma}_{i,j} &= \\boldsymbol{\\sigma}(t_i,t_j).\n",
    "\\end{align}\n",
    "$\n",
    "\n",
    "where mean and autocorrelation may not be stationary (in general, they will be below).\n",
    "The log-likelhood function of the probability distribution function is:\n",
    "\n",
    "$\n",
    "\\begin{align}\n",
    "l &= -\\frac{1}{2} \\log | \\boldsymbol{\\Sigma} | \n",
    "- \\frac{1}{2} [ \\mathbf{U} - \\mathbf{M} ]^T \\boldsymbol{\\Sigma}^{-1} [ \\mathbf{U} - \\mathbf{M} ]\n",
    "\\end{align}\n",
    "$"
   ]
  },
  {
   "cell_type": "markdown",
   "metadata": {},
   "source": [
    "Assuming the autocovariance can be represented by\n",
    "\n",
    "$\n",
    "\\begin{align}\n",
    "\\boldsymbol{\\sigma}(t,t') &=  \\boldsymbol{\\sigma_0} c(t,t'), \\\\\n",
    "\\boldsymbol{\\sigma_0} &=  \\begin{bmatrix}\n",
    "    \\sigma_{xx} & \\sigma_{xy} \\\\\n",
    "    \\sigma_{yx} & \\sigma_{yy}\n",
    "  \\end{bmatrix}\n",
    "\\end{align}\n",
    "$\n",
    "\n",
    "The log-likelihood function may be written as (**to be verified**):\n",
    "\n",
    "$\n",
    "\\begin{align}\n",
    "l &= -\\frac{1}{2} \\log | \\mathbf{C} | \n",
    "- \\frac{n}{2} \\log | \\boldsymbol{\\sigma}_0 |\n",
    "- n \\frac{\\sigma_{yy} s_{xx} + \\sigma_{xx} s_{yy} -2 \\sigma_{xy} s_{xy} }{2| \\boldsymbol{\\sigma}_0 |}\n",
    "\\end{align}\n",
    "$\n",
    "\n",
    "where the sample correlations are given by:\n",
    "\n",
    "$\n",
    "\\begin{align}\n",
    "s_{xx} &= \\frac{1}{n} (\\mathbf{U}-\\mathbf{M}_x)^T \\mathbf{C}^{-1} (\\mathbf{U}-\\mathbf{M}_x)^T, \\\\\n",
    "s_{yy} &= \\frac{1}{n} (\\mathbf{V}-\\mathbf{M}_y)^T \\mathbf{C}^{-1} (\\mathbf{V}-\\mathbf{M}_y)^T, \\\\\n",
    "s_{xx} &= \\frac{1}{n} (\\mathbf{U}-\\mathbf{M}_x)^T \\mathbf{C}^{-1} (\\mathbf{V}-\\mathbf{M}_y)^T\n",
    "\\end{align}\n",
    "$\n",
    "\n",
    "Block matrix inversion and determinant formulas are necessary obtain above formulas, see [wikipedia](https://en.wikipedia.org/wiki/Block_matrix).\n",
    "\n",
    "Both mean and variances may be solved for analytically as a function of other parameters (see Fleming supplementary material) (**to be verified**):\n",
    "\n",
    "$\n",
    "\\begin{align}\n",
    "\\mu_x &= \\frac{1}{W} \\sum_i w_i U_i, \\\\\n",
    "\\mu_y &= \\frac{1}{W} \\sum_i w_i V_i, \\\\\n",
    "w_i &= \\sum_j C^{-1}_{ij}, \\\\\n",
    "W &= \\sum_i w_i, \\\\\n",
    "\\hat{\\sigma}_{xx} &= s_{xx}, \\\\\n",
    "\\hat{\\sigma}_{yy} &= s_{yy}, \\\\\n",
    "\\hat{\\sigma}_{xy} &= s_{xy},\n",
    "\\end{align}\n",
    "$\n",
    "\n",
    "The likehood function reduces then to:\n",
    "\n",
    "$\n",
    "\\begin{align}\n",
    "l &= -\\frac{1}{2} \\log | \\mathbf{C} | \n",
    "- \\frac{n}{2} \\log | \\boldsymbol{\\hat{\\sigma}}_0 |\n",
    "\\end{align}\n",
    "$\n",
    "\n",
    "\n"
   ]
  }
 ],
 "metadata": {
  "kernelspec": {
   "display_name": "Python 3 (ipykernel)",
   "language": "python",
   "name": "python3"
  },
  "language_info": {
   "codemirror_mode": {
    "name": "ipython",
    "version": 3
   },
   "file_extension": ".py",
   "mimetype": "text/x-python",
   "name": "python",
   "nbconvert_exporter": "python",
   "pygments_lexer": "ipython3",
   "version": "3.8.12"
  }
 },
 "nbformat": 4,
 "nbformat_minor": 4
}
