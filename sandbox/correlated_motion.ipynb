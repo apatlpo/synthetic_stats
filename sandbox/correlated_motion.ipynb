{
 "cells": [
  {
   "cell_type": "markdown",
   "metadata": {},
   "source": [
    "# Correlated motions\n",
    "\n",
    "Check equations\n",
    "\n",
    "[Gurarie et al. 2017](https://doi.org/10.1186/s40462-017-0103-3)"
   ]
  },
  {
   "cell_type": "code",
   "execution_count": 7,
   "metadata": {},
   "outputs": [],
   "source": [
    "import sympy as sy\n",
    "from sympy import Symbol, symbols, \\\n",
    "                  fourier_transform, inverse_fourier_transform, \\\n",
    "                  lambdify, \\\n",
    "                  exp, sqrt, cos, sin, pi, oo\n",
    "\n",
    "from sympy.abc import u, x, k, t, tau\n",
    "omega, T, U, sigma, phi = symbols('omega, T, U, sigma, phi', positive=True)\n"
   ]
  },
  {
   "cell_type": "markdown",
   "metadata": {},
   "source": [
    "---\n",
    "\n",
    "## various integrations"
   ]
  },
  {
   "cell_type": "code",
   "execution_count": 17,
   "metadata": {},
   "outputs": [
    {
     "data": {
      "text/latex": [
       "$\\displaystyle \\frac{e^{- \\frac{u^{2}}{2 U^{2}}} e^{- \\frac{\\left(- T \\phi u + x\\right)^{2}}{2 \\sigma^{2}}}}{2 \\pi U \\sigma}$"
      ],
      "text/plain": [
       "exp(-u**2/(2*U**2))*exp(-(-T*phi*u + x)**2/(2*sigma**2))/(2*pi*U*sigma)"
      ]
     },
     "execution_count": 17,
     "metadata": {},
     "output_type": "execute_result"
    }
   ],
   "source": [
    "term = 1/(sigma*sqrt(2*pi)) *exp(-(x-u*T*phi)**2/sigma**2/2) * 1/(U*sqrt(2*pi)) *exp(-u**2/U**2/2)\n",
    "term"
   ]
  },
  {
   "cell_type": "code",
   "execution_count": 18,
   "metadata": {},
   "outputs": [
    {
     "data": {
      "text/latex": [
       "$\\displaystyle \\frac{\\sqrt{2} e^{\\frac{x^{2} \\left(\\frac{T^{2} U^{2} \\phi^{2}}{T^{2} U^{2} \\phi^{2} + \\sigma^{2}} - 1\\right)}{2 \\sigma^{2}}}}{2 \\sqrt{\\pi} \\sqrt{T^{2} U^{2} \\phi^{2} + \\sigma^{2}}}$"
      ],
      "text/plain": [
       "sqrt(2)*exp(x**2*(T**2*U**2*phi**2/(T**2*U**2*phi**2 + sigma**2) - 1)/(2*sigma**2))/(2*sqrt(pi)*sqrt(T**2*U**2*phi**2 + sigma**2))"
      ]
     },
     "execution_count": 18,
     "metadata": {},
     "output_type": "execute_result"
    }
   ],
   "source": [
    "I = term.integrate((u,-oo,oo))\n",
    "Is = I.simplify()\n",
    "Is"
   ]
  },
  {
   "cell_type": "code",
   "execution_count": 23,
   "metadata": {},
   "outputs": [
    {
     "data": {
      "text/latex": [
       "$\\displaystyle \\frac{x^{2} \\left(\\frac{T^{2} U^{2} \\phi^{2}}{T^{2} U^{2} \\phi^{2} + \\sigma^{2}} - 1\\right)}{2 \\sigma^{2}}$"
      ],
      "text/plain": [
       "x**2*(T**2*U**2*phi**2/(T**2*U**2*phi**2 + sigma**2) - 1)/(2*sigma**2)"
      ]
     },
     "execution_count": 23,
     "metadata": {},
     "output_type": "execute_result"
    }
   ],
   "source": [
    "Is.args[-1].args[0]"
   ]
  },
  {
   "cell_type": "code",
   "execution_count": 24,
   "metadata": {},
   "outputs": [
    {
     "data": {
      "text/latex": [
       "$\\displaystyle - \\frac{x^{2}}{2 T^{2} U^{2} \\phi^{2} + 2 \\sigma^{2}}$"
      ],
      "text/plain": [
       "-x**2/(2*T**2*U**2*phi**2 + 2*sigma**2)"
      ]
     },
     "execution_count": 24,
     "metadata": {},
     "output_type": "execute_result"
    }
   ],
   "source": [
    "Is.args[-1].args[0].simplify()"
   ]
  },
  {
   "cell_type": "code",
   "execution_count": 15,
   "metadata": {},
   "outputs": [
    {
     "data": {
      "text/latex": [
       "$\\displaystyle \\frac{\\sqrt{2 T^{2} U^{2} \\phi^{2} + 2 \\sigma^{2}} e^{- \\frac{k^{2} \\left(2 T^{2} U^{2} \\phi^{2} + 2 \\sigma^{2}\\right)}{4}}}{2 \\sqrt{\\frac{T^{2} U^{2} \\phi^{2}}{2} + \\frac{\\sigma^{2}}{2}}}$"
      ],
      "text/plain": [
       "sqrt(2*T**2*U**2*phi**2 + 2*sigma**2)*exp(-k**2*(2*T**2*U**2*phi**2 + 2*sigma**2)/4)/(2*sqrt(T**2*U**2*phi**2/2 + sigma**2/2))"
      ]
     },
     "execution_count": 15,
     "metadata": {},
     "output_type": "execute_result"
    }
   ],
   "source": [
    "term = cos(k*x) * I\n",
    "term.integrate((x,-oo,oo))"
   ]
  },
  {
   "cell_type": "code",
   "execution_count": 2,
   "metadata": {},
   "outputs": [
    {
     "data": {
      "text/latex": [
       "$\\displaystyle \\frac{\\sqrt{2} e^{- \\frac{x^{2}}{2 \\sigma^{2}}} \\cos{\\left(k x \\right)}}{2 \\sqrt{\\pi} \\sigma}$"
      ],
      "text/plain": [
       "sqrt(2)*exp(-x**2/(2*sigma**2))*cos(k*x)/(2*sqrt(pi)*sigma)"
      ]
     },
     "execution_count": 2,
     "metadata": {},
     "output_type": "execute_result"
    }
   ],
   "source": [
    "# old, not correct\n",
    "term = cos(k*x) /(sigma*sqrt(2*pi)) *exp(-x**2/sigma**2/2)\n",
    "term"
   ]
  },
  {
   "cell_type": "code",
   "execution_count": 3,
   "metadata": {},
   "outputs": [
    {
     "data": {
      "text/latex": [
       "$\\displaystyle e^{- \\frac{k^{2} \\sigma^{2}}{2}}$"
      ],
      "text/plain": [
       "exp(-k**2*sigma**2/2)"
      ]
     },
     "execution_count": 3,
     "metadata": {},
     "output_type": "execute_result"
    }
   ],
   "source": [
    "term.integrate((x,-oo,oo))"
   ]
  },
  {
   "cell_type": "markdown",
   "metadata": {},
   "source": [
    "---\n",
    "\n",
    "## displacement variance limiting behavior"
   ]
  },
  {
   "cell_type": "code",
   "execution_count": 11,
   "metadata": {},
   "outputs": [
    {
     "data": {
      "text/latex": [
       "$\\displaystyle 2 T^{2} U^{2} \\left(- \\frac{3}{2} + 2 e^{- \\frac{\\tau}{T}} - \\frac{e^{- \\frac{2 \\tau}{T}}}{2} + \\frac{\\tau}{T}\\right)$"
      ],
      "text/plain": [
       "2*T**2*U**2*(-3/2 + 2*exp(-tau/T) - exp(-2*tau/T)/2 + tau/T)"
      ]
     },
     "execution_count": 11,
     "metadata": {},
     "output_type": "execute_result"
    }
   ],
   "source": [
    "var_z = 2*U**2 *T**2 * (tau/T - 2*(1-exp(-tau/T)) + (1-exp(-2*tau/T))/2)\n",
    "var_z"
   ]
  },
  {
   "cell_type": "code",
   "execution_count": 12,
   "metadata": {},
   "outputs": [
    {
     "data": {
      "text/latex": [
       "$\\displaystyle \\frac{7 U^{2} \\tau^{5}}{30 T^{3}} - \\frac{U^{2} \\tau^{4}}{2 T^{2}} + \\frac{2 U^{2} \\tau^{3}}{3 T} + O\\left(\\tau^{6}\\right)$"
      ],
      "text/plain": [
       "7*U**2*tau**5/(30*T**3) - U**2*tau**4/(2*T**2) + 2*U**2*tau**3/(3*T) + O(tau**6)"
      ]
     },
     "execution_count": 12,
     "metadata": {},
     "output_type": "execute_result"
    }
   ],
   "source": [
    "var_z.series(tau,0)"
   ]
  },
  {
   "cell_type": "code",
   "execution_count": 13,
   "metadata": {},
   "outputs": [
    {
     "data": {
      "text/latex": [
       "$\\displaystyle 2 T U^{2} \\tau - 3 T^{2} U^{2} + O\\left(\\frac{1}{\\tau^{6}}; \\tau\\rightarrow \\infty\\right)$"
      ],
      "text/plain": [
       "2*T*U**2*tau - 3*T**2*U**2 + O(tau**(-6), (tau, oo))"
      ]
     },
     "execution_count": 13,
     "metadata": {},
     "output_type": "execute_result"
    }
   ],
   "source": [
    "var_z.series(tau,oo)"
   ]
  },
  {
   "cell_type": "code",
   "execution_count": null,
   "metadata": {},
   "outputs": [],
   "source": []
  }
 ],
 "metadata": {
  "kernelspec": {
   "display_name": "Python 3",
   "language": "python",
   "name": "python3"
  },
  "language_info": {
   "codemirror_mode": {
    "name": "ipython",
    "version": 3
   },
   "file_extension": ".py",
   "mimetype": "text/x-python",
   "name": "python",
   "nbconvert_exporter": "python",
   "pygments_lexer": "ipython3",
   "version": "3.7.6"
  }
 },
 "nbformat": 4,
 "nbformat_minor": 4
}
