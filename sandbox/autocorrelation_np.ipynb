{
 "cells": [
  {
   "cell_type": "markdown",
   "id": "c8b888cf",
   "metadata": {},
   "source": [
    "# covariance\n",
    "\n",
    "Understanding how `np.correlate` can lead to auto and cross-correlations\n",
    "\n",
    "For discussion about biased and unbiased autocovariance estimate statistical properties see Priestley chapter 5 as well as notebook `autocovariance.ipynb`."
   ]
  },
  {
   "cell_type": "code",
   "execution_count": 1,
   "id": "1cba263b",
   "metadata": {
    "jupyter": {
     "source_hidden": true
    },
    "tags": []
   },
   "outputs": [],
   "source": [
    "import numpy as np"
   ]
  },
  {
   "cell_type": "markdown",
   "id": "7365152d",
   "metadata": {},
   "source": [
    "Compute the weights associated with mode `full`"
   ]
  },
  {
   "cell_type": "code",
   "execution_count": 2,
   "id": "2a8d74d1",
   "metadata": {},
   "outputs": [
    {
     "data": {
      "text/plain": [
       "array([1, 2, 3, 4, 3, 2, 1])"
      ]
     },
     "execution_count": 2,
     "metadata": {},
     "output_type": "execute_result"
    }
   ],
   "source": [
    "a = np.array([1,1,1,1])\n",
    "b = np.array([1,1,1,1])\n",
    "np.correlate(a, b, mode=\"full\")"
   ]
  },
  {
   "cell_type": "markdown",
   "id": "7b0b19c4",
   "metadata": {},
   "source": [
    "Figure out which timeseries is lagged compared to the other one"
   ]
  },
  {
   "cell_type": "code",
   "execution_count": 3,
   "id": "c2cbcc75",
   "metadata": {},
   "outputs": [
    {
     "data": {
      "text/plain": [
       "array([0.1, 0.2, 1.2, 2.2, 2.1, 2. , 1. ])"
      ]
     },
     "execution_count": 3,
     "metadata": {},
     "output_type": "execute_result"
    }
   ],
   "source": [
    "b = np.array([1,1,.1,.1])\n",
    "np.correlate(a, b, mode=\"full\")"
   ]
  },
  {
   "cell_type": "markdown",
   "id": "90d2b71b",
   "metadata": {},
   "source": [
    "The autocorrelation thus indicates the second timeseries (`b`) is shifted:\n",
    "\n",
    "$c(n-1+i) = \\sum_j a(j) b(j+i)$"
   ]
  },
  {
   "cell_type": "markdown",
   "id": "1f756f6c",
   "metadata": {},
   "source": [
    "Comparison with mode `same`and `valid`"
   ]
  },
  {
   "cell_type": "code",
   "execution_count": 4,
   "id": "23e498fd",
   "metadata": {},
   "outputs": [
    {
     "data": {
      "text/plain": [
       "array([0.2, 1.2, 2.2, 2.1])"
      ]
     },
     "execution_count": 4,
     "metadata": {},
     "output_type": "execute_result"
    }
   ],
   "source": [
    "a = np.array([1,1,1,1])\n",
    "b = np.array([1,1,.1,.1])\n",
    "np.correlate(a, b, mode=\"same\")"
   ]
  },
  {
   "cell_type": "code",
   "execution_count": 5,
   "id": "319e72d8",
   "metadata": {},
   "outputs": [
    {
     "data": {
      "text/plain": [
       "array([2.2])"
      ]
     },
     "execution_count": 5,
     "metadata": {},
     "output_type": "execute_result"
    }
   ],
   "source": [
    "np.correlate(a, b, mode=\"valid\")"
   ]
  },
  {
   "cell_type": "markdown",
   "id": "0a2c8668",
   "metadata": {},
   "source": [
    "---\n",
    "\n",
    "## build wrapper around np.correlate\n"
   ]
  },
  {
   "cell_type": "code",
   "execution_count": 16,
   "id": "e09ee924",
   "metadata": {},
   "outputs": [],
   "source": [
    "def correlate(u, v, \n",
    "              biased=True,\n",
    "              one_sided=True,\n",
    "              weights=False,\n",
    "             ):\n",
    "    \"\"\" custom correlation\n",
    "    \n",
    "      corr[lag] = 1/w(lag) sum_lag u(t) x v(t+lag)\n",
    "      \n",
    "    \n",
    "    Parameters\n",
    "    ----------\n",
    "    u, v: np.array\n",
    "        Input timeseries, must be of the same length\n",
    "    biased: boolean, optional\n",
    "        Returns a biased estimation of the correlation. Default is True\n",
    "        Biased: corr[lag] = 1/N sum ...\n",
    "        Unbiased: corr[lag] = 1/(N-lag) sum ...\n",
    "    one_sided: boolean, optional\n",
    "        Outputs only positive lag. Default is True\n",
    "    weights: boolean, optional\n",
    "        Returns weights. Default is False\n",
    "    \n",
    "    Returns\n",
    "    -------\n",
    "    c: np.array\n",
    "        Autocorrelation\n",
    "    lag: np.array of int\n",
    "        Lag in index (nondimensional units)\n",
    "    w: np.array of int\n",
    "        Weights used for the calculation of the autocorrelation\n",
    "        \n",
    "    \"\"\"\n",
    "    n = u.size\n",
    "    assert u.size==v.size, \"input vectors must have the same size\"\n",
    "    # build arrays of weights\n",
    "    if biased:\n",
    "        w = n\n",
    "    else:\n",
    "        _w = np.arange(1,n+1)\n",
    "        w = np.hstack([_w, _w[-2::-1]])\n",
    "    #\n",
    "    c = np.correlate(u, v, mode=\"full\") / w\n",
    "    lag = np.arange(-n+1,n)\n",
    "    #\n",
    "    if one_sided:\n",
    "        c, lag = c[n-1:], lag[n-1:]\n",
    "        if not biased:\n",
    "            w = w[n-1:]\n",
    "    if weights:\n",
    "        return c, lag, w\n",
    "    else:\n",
    "        return c, lag"
   ]
  },
  {
   "cell_type": "markdown",
   "id": "50d652ea",
   "metadata": {},
   "source": [
    "Check that the result is consistent with expectations\n",
    "\n",
    "**Unbiased estimate:**"
   ]
  },
  {
   "cell_type": "code",
   "execution_count": 18,
   "id": "ff8e0a3b",
   "metadata": {},
   "outputs": [
    {
     "data": {
      "text/plain": [
       "(array([1., 1., 1., 1.]), array([0, 1, 2, 3]), array([4, 3, 2, 1]))"
      ]
     },
     "execution_count": 18,
     "metadata": {},
     "output_type": "execute_result"
    }
   ],
   "source": [
    "a = np.array([1,1,1,1])\n",
    "b = np.array([1,1,1,1])\n",
    "correlate(a,b, biased=False, weights=True)"
   ]
  },
  {
   "cell_type": "code",
   "execution_count": 19,
   "id": "5d7aa53f",
   "metadata": {},
   "outputs": [
    {
     "data": {
      "text/plain": [
       "(array([0.3025, 0.1   , 0.55  , 1.    ]),\n",
       " array([0, 1, 2, 3]),\n",
       " array([4, 3, 2, 1]))"
      ]
     },
     "execution_count": 19,
     "metadata": {},
     "output_type": "execute_result"
    }
   ],
   "source": [
    "a = np.array([1,.1,.1,1])\n",
    "b = np.array([1,1,.1,.1])\n",
    "correlate(a,b, biased=False, weights=True)"
   ]
  },
  {
   "cell_type": "code",
   "execution_count": 20,
   "id": "979d7250",
   "metadata": {},
   "outputs": [
    {
     "data": {
      "text/plain": [
       "(array([1., 1., 1., 1., 1., 1., 1.]),\n",
       " array([-3, -2, -1,  0,  1,  2,  3]),\n",
       " array([1, 2, 3, 4, 3, 2, 1]))"
      ]
     },
     "execution_count": 20,
     "metadata": {},
     "output_type": "execute_result"
    }
   ],
   "source": [
    "a = np.array([1,1,1,1])\n",
    "b = np.array([1,1,1,1])\n",
    "correlate(a,b, one_sided=False, biased=False, weights=True)"
   ]
  },
  {
   "cell_type": "code",
   "execution_count": 21,
   "id": "13708070",
   "metadata": {},
   "outputs": [
    {
     "data": {
      "text/plain": [
       "(array([0.1 , 0.1 , 0.4 , 0.55, 0.7 , 1.  , 1.  ]),\n",
       " array([-3, -2, -1,  0,  1,  2,  3]),\n",
       " array([1, 2, 3, 4, 3, 2, 1]))"
      ]
     },
     "execution_count": 21,
     "metadata": {},
     "output_type": "execute_result"
    }
   ],
   "source": [
    "a = np.array([1,1,1,1])\n",
    "b = np.array([1,1,.1,.1])\n",
    "correlate(a,b, one_sided=False, biased=False, weights=True)"
   ]
  },
  {
   "cell_type": "markdown",
   "id": "dc83d8ef",
   "metadata": {},
   "source": [
    "**Biased estimate:**"
   ]
  },
  {
   "cell_type": "code",
   "execution_count": 24,
   "id": "1aa9a54e",
   "metadata": {},
   "outputs": [
    {
     "data": {
      "text/plain": [
       "(array([0.025, 0.05 , 0.3  , 0.55 , 0.525, 0.5  , 0.25 ]),\n",
       " array([-3, -2, -1,  0,  1,  2,  3]),\n",
       " 4)"
      ]
     },
     "execution_count": 24,
     "metadata": {},
     "output_type": "execute_result"
    }
   ],
   "source": [
    "a = np.array([1,1,1,1])\n",
    "b = np.array([1,1,.1,.1])\n",
    "correlate(a,b, one_sided=False, biased=True, weights=True)"
   ]
  },
  {
   "cell_type": "code",
   "execution_count": null,
   "id": "0bcf8637",
   "metadata": {},
   "outputs": [],
   "source": []
  }
 ],
 "metadata": {
  "kernelspec": {
   "display_name": "Python 3 (ipykernel)",
   "language": "python",
   "name": "python3"
  },
  "language_info": {
   "codemirror_mode": {
    "name": "ipython",
    "version": 3
   },
   "file_extension": ".py",
   "mimetype": "text/x-python",
   "name": "python",
   "nbconvert_exporter": "python",
   "pygments_lexer": "ipython3",
   "version": "3.8.12"
  }
 },
 "nbformat": 4,
 "nbformat_minor": 5
}
