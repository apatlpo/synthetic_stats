{
 "cells": [
  {
   "cell_type": "markdown",
   "id": "16bfbf06",
   "metadata": {},
   "source": [
    "# covariance\n",
    "\n",
    "Understanding how `np.correlate` can lead to auto and cross-correlations\n",
    "\n",
    "For discussion about biased and unbiased autocovariance estimate statistical properties see Priestley chapter 5 as well as notebook `autocovariance.ipynb`."
   ]
  },
  {
   "cell_type": "code",
   "execution_count": 1,
   "id": "c0966a6d",
   "metadata": {
    "jupyter": {
     "source_hidden": true
    },
    "tags": []
   },
   "outputs": [],
   "source": [
    "import numpy as np"
   ]
  },
  {
   "cell_type": "markdown",
   "id": "a640cbf3-1c25-4cfb-82ae-cef5cb483f4d",
   "metadata": {},
   "source": [
    "Compute the weights associated with mode `full`"
   ]
  },
  {
   "cell_type": "code",
   "execution_count": 2,
   "id": "f170f101-d5bf-4910-8c16-9c94837e9d71",
   "metadata": {},
   "outputs": [
    {
     "data": {
      "text/plain": [
       "array([1, 2, 3, 4, 3, 2, 1])"
      ]
     },
     "execution_count": 2,
     "metadata": {},
     "output_type": "execute_result"
    }
   ],
   "source": [
    "a = np.array([1,1,1,1])\n",
    "b = np.array([1,1,1,1])\n",
    "np.correlate(a, b, mode=\"full\")"
   ]
  },
  {
   "cell_type": "markdown",
   "id": "8084824d-ff26-4afb-83a4-7b231298facd",
   "metadata": {},
   "source": [
    "Figure out which timeseries is lagged compared to the other one"
   ]
  },
  {
   "cell_type": "code",
   "execution_count": 3,
   "id": "5cd603a6-0b10-46b3-9108-80c8800ec7a8",
   "metadata": {},
   "outputs": [
    {
     "data": {
      "text/plain": [
       "array([0.1, 0.2, 1.2, 2.2, 2.1, 2. , 1. ])"
      ]
     },
     "execution_count": 3,
     "metadata": {},
     "output_type": "execute_result"
    }
   ],
   "source": [
    "b = np.array([1,1,.1,.1])\n",
    "np.correlate(a, b, mode=\"full\")"
   ]
  },
  {
   "cell_type": "markdown",
   "id": "436f72b7-b3e2-4964-8931-acb7356c81a3",
   "metadata": {},
   "source": [
    "The autocorrelation thus indicates the second timeseries (`b`) is shifted:\n",
    "\n",
    "$c(n-1+i) = \\sum_j a(j) b(j+i)$"
   ]
  },
  {
   "cell_type": "markdown",
   "id": "0ff8029b-bfe8-4569-b3a2-243a634e6c06",
   "metadata": {},
   "source": [
    "Comparison with mode `same`and `valid`"
   ]
  },
  {
   "cell_type": "code",
   "execution_count": 4,
   "id": "2cde2b28-e116-4f34-a8a8-45adbdf1ebed",
   "metadata": {},
   "outputs": [
    {
     "data": {
      "text/plain": [
       "array([0.2, 1.2, 2.2, 2.1])"
      ]
     },
     "execution_count": 4,
     "metadata": {},
     "output_type": "execute_result"
    }
   ],
   "source": [
    "a = np.array([1,1,1,1])\n",
    "b = np.array([1,1,.1,.1])\n",
    "np.correlate(a, b, mode=\"same\")"
   ]
  },
  {
   "cell_type": "code",
   "execution_count": 5,
   "id": "2e47c38b-dddb-4f4d-b3de-f174022471fc",
   "metadata": {},
   "outputs": [
    {
     "data": {
      "text/plain": [
       "array([2.2])"
      ]
     },
     "execution_count": 5,
     "metadata": {},
     "output_type": "execute_result"
    }
   ],
   "source": [
    "np.correlate(a, b, mode=\"valid\")"
   ]
  },
  {
   "cell_type": "markdown",
   "id": "4b0a705f-ecba-4ef5-a87e-dc04ddf218c8",
   "metadata": {},
   "source": [
    "---\n",
    "\n",
    "## build wrapper around np.correlate\n"
   ]
  },
  {
   "cell_type": "code",
   "execution_count": 16,
   "id": "db01b1b0-b9b0-4f0e-9c06-536676e3c0b4",
   "metadata": {},
   "outputs": [],
   "source": [
    "def correlate(u, v, \n",
    "              biased=True,\n",
    "              one_sided=True,\n",
    "              weights=False,\n",
    "             ):\n",
    "    \"\"\" custom correlation\n",
    "    \n",
    "      corr[lag] = 1/w(lag) sum_lag u(t) x v(t+lag)\n",
    "      \n",
    "    \n",
    "    Parameters\n",
    "    ----------\n",
    "    u, v: np.array\n",
    "        Input timeseries, must be of the same length\n",
    "    biased: boolean, optional\n",
    "        Returns a biased estimation of the correlation. Default is True\n",
    "        Biased: corr[lag] = 1/N sum ...\n",
    "        Unbiased: corr[lag] = 1/(N-lag) sum ...\n",
    "    one_sided: boolean, optional\n",
    "        Outputs only positive lag. Default is True\n",
    "    weights: boolean, optional\n",
    "        Returns weights. Default is False\n",
    "    \n",
    "    Returns\n",
    "    -------\n",
    "    c: np.array\n",
    "        Autocorrelation\n",
    "    lag: np.array of int\n",
    "        Lag in index (nondimensional units)\n",
    "    w: np.array of int\n",
    "        Weights used for the calculation of the autocorrelation\n",
    "        \n",
    "    \"\"\"\n",
    "    n = u.size\n",
    "    assert u.size==v.size, \"input vectors must have the same size\"\n",
    "    # build arrays of weights\n",
    "    if biased:\n",
    "        w = n\n",
    "    else:\n",
    "        _w = np.arange(1,n+1)\n",
    "        w = np.hstack([_w, _w[-2::-1]])\n",
    "    #\n",
    "    c = np.correlate(u, v, mode=\"full\") / w\n",
    "    lag = np.arange(-n+1,n)\n",
    "    #\n",
    "    if one_sided:\n",
    "        c, lag = c[n-1:], lag[n-1:]\n",
    "        if not biased:\n",
    "            w = w[n-1:]\n",
    "    if weights:\n",
    "        return c, lag, w\n",
    "    else:\n",
    "        return c, lag"
   ]
  },
  {
   "cell_type": "markdown",
   "id": "a1f3bd86-c15a-4f1e-a0e1-c443ab33aed6",
   "metadata": {},
   "source": [
    "Check that the result is consistent with expectations\n",
    "\n",
    "**Unbiased estimate:**"
   ]
  },
  {
   "cell_type": "code",
   "execution_count": 18,
   "id": "97b25f8f-56f7-4f29-85f2-b820e2f11700",
   "metadata": {},
   "outputs": [
    {
     "data": {
      "text/plain": [
       "(array([1., 1., 1., 1.]), array([0, 1, 2, 3]), array([4, 3, 2, 1]))"
      ]
     },
     "execution_count": 18,
     "metadata": {},
     "output_type": "execute_result"
    }
   ],
   "source": [
    "a = np.array([1,1,1,1])\n",
    "b = np.array([1,1,1,1])\n",
    "correlate(a,b, biased=False, weights=True)"
   ]
  },
  {
   "cell_type": "code",
   "execution_count": 19,
   "id": "860fa0db-1859-469b-bedb-bded657fa43c",
   "metadata": {},
   "outputs": [
    {
     "data": {
      "text/plain": [
       "(array([0.3025, 0.1   , 0.55  , 1.    ]),\n",
       " array([0, 1, 2, 3]),\n",
       " array([4, 3, 2, 1]))"
      ]
     },
     "execution_count": 19,
     "metadata": {},
     "output_type": "execute_result"
    }
   ],
   "source": [
    "a = np.array([1,.1,.1,1])\n",
    "b = np.array([1,1,.1,.1])\n",
    "correlate(a,b, biased=False, weights=True)"
   ]
  },
  {
   "cell_type": "code",
   "execution_count": 20,
   "id": "160bfa78-fded-43a5-9127-52541011d85d",
   "metadata": {},
   "outputs": [
    {
     "data": {
      "text/plain": [
       "(array([1., 1., 1., 1., 1., 1., 1.]),\n",
       " array([-3, -2, -1,  0,  1,  2,  3]),\n",
       " array([1, 2, 3, 4, 3, 2, 1]))"
      ]
     },
     "execution_count": 20,
     "metadata": {},
     "output_type": "execute_result"
    }
   ],
   "source": [
    "a = np.array([1,1,1,1])\n",
    "b = np.array([1,1,1,1])\n",
    "correlate(a,b, one_sided=False, biased=False, weights=True)"
   ]
  },
  {
   "cell_type": "code",
   "execution_count": 21,
   "id": "bdfbea30-f719-4c7f-9b58-2def08c77ba2",
   "metadata": {},
   "outputs": [
    {
     "data": {
      "text/plain": [
       "(array([0.1 , 0.1 , 0.4 , 0.55, 0.7 , 1.  , 1.  ]),\n",
       " array([-3, -2, -1,  0,  1,  2,  3]),\n",
       " array([1, 2, 3, 4, 3, 2, 1]))"
      ]
     },
     "execution_count": 21,
     "metadata": {},
     "output_type": "execute_result"
    }
   ],
   "source": [
    "a = np.array([1,1,1,1])\n",
    "b = np.array([1,1,.1,.1])\n",
    "correlate(a,b, one_sided=False, biased=False, weights=True)"
   ]
  },
  {
   "cell_type": "markdown",
   "id": "7f2997eb-6892-41f1-a294-62e42f121f47",
   "metadata": {},
   "source": [
    "**Biased estimate:**"
   ]
  },
  {
   "cell_type": "code",
   "execution_count": 24,
   "id": "b859f0d9-251a-4eeb-b49e-e25f094d73e2",
   "metadata": {},
   "outputs": [
    {
     "data": {
      "text/plain": [
       "(array([0.025, 0.05 , 0.3  , 0.55 , 0.525, 0.5  , 0.25 ]),\n",
       " array([-3, -2, -1,  0,  1,  2,  3]),\n",
       " 4)"
      ]
     },
     "execution_count": 24,
     "metadata": {},
     "output_type": "execute_result"
    }
   ],
   "source": [
    "a = np.array([1,1,1,1])\n",
    "b = np.array([1,1,.1,.1])\n",
    "correlate(a,b, one_sided=False, biased=True, weights=True)"
   ]
  },
  {
   "cell_type": "code",
   "execution_count": null,
   "id": "e748e537-03aa-4157-83de-3bff64066129",
   "metadata": {},
   "outputs": [],
   "source": []
  }
 ],
 "metadata": {
  "kernelspec": {
   "display_name": "Python 3 (ipykernel)",
   "language": "python",
   "name": "python3"
  },
  "language_info": {
   "codemirror_mode": {
    "name": "ipython",
    "version": 3
   },
   "file_extension": ".py",
   "mimetype": "text/x-python",
   "name": "python",
   "nbconvert_exporter": "python",
   "pygments_lexer": "ipython3",
   "version": "3.8.12"
  }
 },
 "nbformat": 4,
 "nbformat_minor": 5
}
